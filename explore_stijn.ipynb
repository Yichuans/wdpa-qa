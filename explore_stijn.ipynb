{
 "cells": [
  {
   "cell_type": "markdown",
   "metadata": {},
   "source": [
    "# QA for WDPA 2019\n",
    "\n",
    "Stijn den Haan\n",
    "\n",
    "Supervisor: Yichuan Shi\n",
    "\n",
    "Bioinformatics internship • WCMC • 10 June --- 9 August 2019\n",
    "\n",
    "---"
   ]
  },
  {
   "cell_type": "markdown",
   "metadata": {},
   "source": [
    "Load packages"
   ]
  },
  {
   "cell_type": "code",
   "execution_count": null,
   "metadata": {},
   "outputs": [],
   "source": [
    "import numpy as np\n",
    "import pandas as pd\n",
    "import arcpy"
   ]
  },
  {
   "cell_type": "markdown",
   "metadata": {},
   "source": [
    "Load data"
   ]
  },
  {
   "cell_type": "code",
   "execution_count": null,
   "metadata": {},
   "outputs": [],
   "source": [
    "wdpa = r'E:\\Yichuan\\WDPA\\WDPA_May2016_Public.gdb\\WDPA_poly_May2016'\n",
    "\n",
    "fields = ['WDPAID', 'WDPA_PID', 'PA_DEF', 'NAME', 'ORIG_NAME', 'DESIG', \n",
    "          'DESIG_ENG', 'DESIG_TYPE', 'IUCN_CAT', 'INT_CRIT', 'MARINE', 'REP_M_AREA', \n",
    "          'GIS_M_AREA', 'REP_AREA', 'GIS_AREA', 'NO_TAKE', 'NO_TK_AREA', 'STATUS', 'STATUS_YR', \n",
    "          'GOV_TYPE', 'OWN_TYPE', 'MANG_AUTH', 'MANG_PLAN', 'VERIF', 'METADATAID', 'SUB_LOC', 'PARENT_ISO3', 'ISO3', ]"
   ]
  },
  {
   "cell_type": "markdown",
   "metadata": {},
   "source": [
    "**Convert** ArcGIS table to Pandas DataFrame"
   ]
  },
  {
   "cell_type": "code",
   "execution_count": null,
   "metadata": {},
   "outputs": [],
   "source": [
    "# Source: https://gist.github.com/d-wasserman/e9c98be1d0caebc2935afecf0ba239a0\n",
    "def arcgis_table_to_df(in_fc, input_fields, query=\"\"):\n",
    "    \"\"\"Function will convert an arcgis table into a pandas dataframe with an object ID index, and the selected\n",
    "    input fields using an arcpy.da.SearchCursor.\"\"\"\n",
    "\n",
    "    OIDFieldName = arcpy.Describe(in_fc).OIDFieldName\n",
    "    final_fields = [OIDFieldName] + input_fields\n",
    "    data = [row for row in arcpy.da.SearchCursor(in_fc,final_fields,where_clause=query)]\n",
    "    fc_dataframe = pd.DataFrame(data,columns=final_fields)\n",
    "    fc_dataframe = fc_dataframe.set_index(OIDFieldName,drop=True)\n",
    "    \n",
    "    return fc_dataframe\n",
    "\n",
    "# wdpa_df = arcgis_table_to_df(wdpa, fields)"
   ]
  },
  {
   "cell_type": "markdown",
   "metadata": {},
   "source": [
    "**Utility**"
   ]
  },
  {
   "cell_type": "code",
   "execution_count": null,
   "metadata": {},
   "outputs": [],
   "source": [
    "# find rows of the WDPA based on the WDPA_PID\n",
    "def find_wdpa_rows(wdpa_df, wdpa_pid):\n",
    "    '''\n",
    "    Return a subset of dataframe based on wdpa_pid list\n",
    "\n",
    "    Arguments:\n",
    "    wdpa_df -- wdpa dataframe\n",
    "    wdpa_pid -- a list of WDPA_PID\n",
    "    '''\n",
    "    return wdpa_df[wdpa_df['WDPA_PID'].isin(wdpa_pid)]"
   ]
  },
  {
   "cell_type": "markdown",
   "metadata": {},
   "source": [
    "**Checks**"
   ]
  },
  {
   "cell_type": "markdown",
   "metadata": {},
   "source": [
    ">Checking the validality should be implemented as efficiently as possible to avoid having to pull out all 'offending' rows when return_pid is set to true"
   ]
  },
  {
   "cell_type": "markdown",
   "metadata": {},
   "source": [
    "i. Duplicate WDPA_PIDs"
   ]
  },
  {
   "cell_type": "code",
   "execution_count": null,
   "metadata": {},
   "outputs": [],
   "source": [
    "def duplicate_wdpa_pid(wdpa_df, return_pid=False):\n",
    "    '''\n",
    "    Return True if WDPA_PID is duplicate in the dataframe. \n",
    "    \n",
    "    Return list of WDPAID_PID, if duplicates are present \n",
    "    and return_pid is set True.\n",
    "    '''\n",
    "\n",
    "    if return_pid:\n",
    "        ids = wdpa_df['WDPA_PID'] # make a variable of the field to find\n",
    "        duplicates = wdpa_df[ids.isin(ids[ids.duplicated()])] # find duplicates\n",
    "        pid_tuple = (duplicates) # store duplicates in tuple\n",
    "        return pid_tuple # return tuple\n",
    "\n",
    "    return wdpa_df['WDPA_PID'].nunique() != wdpa_df.index.size # this returns True if unequal"
   ]
  },
  {
   "cell_type": "markdown",
   "metadata": {},
   "source": [
    "ii. Inconsistent values for the same WDPAID"
   ]
  },
  {
   "cell_type": "code",
   "execution_count": null,
   "metadata": {},
   "outputs": [],
   "source": [
    "def inconsistent_attributes_same_wdpaid(wdpa_df, check_attribute, return_pid=False):\n",
    "    '''\n",
    "    Factory of functions: this generic function is to be linked to\n",
    "    the family of 'inconsistent' functions. These latter functions \n",
    "    are to give information on which fields to check and pull from \n",
    "    the DataFrame.\n",
    "    \n",
    "    Return True if inconsistent attributes are found for rows \n",
    "    sharing the same WDPAID\n",
    "\n",
    "    Return list of WDPA_PID where inconsistency occurs, if \n",
    "    return_pid is set True\n",
    "\n",
    "    Arguments:\n",
    "    check_attributes -- list of attributes to check inconsistency\n",
    "    '''\n",
    "   \n",
    "    # this function can be repurposed\n",
    "    \n",
    "    wdpa_df[check_attribute.duplicationCheckForAttribute()]\n",
    "    \n",
    "    return\n",
    "\n",
    "def inconsistent_desig_same_wdpaid(wdpa_df, return_pid=False):\n",
    "    '''\n",
    "\n",
    "    '''\n",
    "\n",
    "    check_attributes = 'DESIG'\n",
    "    return inconsistent_attributes_same_wdpaid(wdpa_df, return_pid, check_attributes)\n",
    "\n",
    "def inconsistent_desig_eng_same_wdpaid(wdpa_df, return_pid=False):\n",
    "    return\n",
    "\n",
    "def inconsistent_name_same_wdpaid(wdpa_df, return_pid=False):\n",
    "    return\n",
    "\n",
    "def inconsistent_mang_auth_same_wdpaid(wdpa_df, return_pid=False):\n",
    "    return\n",
    "\n",
    "def inconsistent_plan_same_wdpaid(wdpa_df, return_pid=False):\n",
    "    return"
   ]
  },
  {
   "cell_type": "markdown",
   "metadata": {},
   "source": [
    "iii. Invalid values present in a field"
   ]
  },
  {
   "cell_type": "code",
   "execution_count": null,
   "metadata": {},
   "outputs": [],
   "source": [
    "def invalid_value_in_field(wdpa_df, field, field_allowed_values, condition, return_pid=False):\n",
    "    '''\n",
    "    Factory of functions: this generic function is to be linked to\n",
    "    the family of 'invalid' functions. These latter functions \n",
    "    are to give information on which fields to check and pull from \n",
    "    the DataFrame.\n",
    "    \n",
    "    Return True if invalid values are found in field rows sharing the same WDPAID\n",
    "\n",
    "    Return list of WDPA_PID where inconsistency occurs, if return_pid is set True\n",
    "\n",
    "    Arguments:\n",
    "    field -- in which invalid values are checked\n",
    "    field_allowed_values -- expected values, case sensitive\n",
    "    condition -- a constraint of another field for evaluating invalid value , leave \"\" if no condition specified\n",
    "\n",
    "    Example:\n",
    "    invalid_value_in_field(wdpa_df, 'DESIG_ENG',\n",
    "    field_allowed_values=[\"Ramsar Site, Wetland of International Importance\", \"UNESCO-MAB Biosphere Reserve\", \"World Heritage Site (natural or mixed],\n",
    "    condition=(\"DESIG_TYPE\", \"International\"), \n",
    "    return_pid=True)\n",
    "    '''\n",
    "    # This generic function can be repurposed to specific functions\n",
    "\n",
    "    wdpa_df[field.isin(field_allowed_values).sort(\"WDPAID\")] # sort by WDPAID\n",
    "    \n",
    "    return\n",
    "\n",
    "def invalid_iucn_cat(wdpa_df, return_pid=False):\n",
    "    \n",
    "    field = 'IUCN_CAT'\n",
    "    field_allowed_values = [\"Ia\", \"Ib\", \"II\", \"III\", \"IV\", \"V\", \"VI\", \"Not Reported\", \"Not Applicable\", \"Not Assigned\"]\n",
    "    condition = ''\n",
    "\n",
    "    return invalid_value_in_field(wdpa_df, field, field_allowed_values, condition, return_pid)\n",
    "\n",
    "def invalid_pa_def(wdpa_df, return_pid=False):\n",
    "    '''\n",
    "    Return True if PA_DEF not 1\n",
    "\n",
    "    Return list of WDPA_PID where PA_DEF is not 1, if return_pid is set True\n",
    "\n",
    "    '''\n",
    "    field = 'PA_DEF'\n",
    "    field_allowed_values = [1]\n",
    "    condition = ''\n",
    "\n",
    "    return invalid_value_in_field(wdpa_df, field, field_allowed_values, condition, return_pid)\n",
    "\n",
    "def invalid_desig_type(wdpa_df, return_pid=False):\n",
    "    return\n",
    "\n",
    "def invalid_desig_eng_regional(wdpa_df, return_pid=False):\n",
    "    return\n",
    "\n",
    "def invalid_desig_eng_international(wdpa_df, return_pid=False):\n",
    "    return\n",
    "\n",
    "def invalid_desig_eng_int_crit(wdpa_df, return_pid=False):\n",
    "    return\n",
    "\n",
    "def invalid_marine(wdpa_df, return_pid=False):\n",
    "    return\n",
    "\n",
    "def invalid_status(wdpa_df, return_pid=False):\n",
    "    return\n",
    "\n",
    "def invalid_status_yr(wdpa_df, return_pid=False):\n",
    "    return\n",
    "\n",
    "def invalid_gov_type(wdpa_df, return_pid=False):\n",
    "    return\n",
    "\n",
    "def invalid_own_type(wdpa_df, return_pid=False):\n",
    "    return\n",
    "\n",
    "def invalid_verif(wdpa_df, return_pid=False):\n",
    "    return\n",
    "\n",
    "def invalid_metadataid(wdpa_df, return_pid=False):\n",
    "    return\n",
    "\n",
    "def invalid_gis_area(wdpa_df, return_pid=False):\n",
    "    '''\n",
    "    Return list of WDPA_PID where value small GIS_AREA are present \n",
    "    '''\n",
    "    return \n",
    "\n",
    "def invalid_int_crit(wdpa_df, return_pid=False):\n",
    "    '''\n",
    "    Return list of WDPA_PID where invalid characters (space, comma), are present \n",
    "    '''   \n",
    "    return\n",
    "\n",
    "# == Marine ==\n",
    "# hard code the rules for marine fields\n",
    "def invalid_marine_areas(wdpa_df, return_pid=False):\n",
    "    # all areal inconsistency to be pickup here and specified\n",
    "    return\n",
    "\n",
    "def invalid_no_take(wdpa_df, return_pid=False):\n",
    "    # no take and no take are\n",
    "    return"
   ]
  }
 ],
 "metadata": {
  "kernelspec": {
   "display_name": "Python 3",
   "language": "python",
   "name": "python3"
  },
  "language_info": {
   "codemirror_mode": {
    "name": "ipython",
    "version": 3
   },
   "file_extension": ".py",
   "mimetype": "text/x-python",
   "name": "python",
   "nbconvert_exporter": "python",
   "pygments_lexer": "ipython3",
   "version": "3.6.6"
  }
 },
 "nbformat": 4,
 "nbformat_minor": 2
}

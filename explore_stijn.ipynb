{
 "cells": [
  {
   "cell_type": "markdown",
   "metadata": {},
   "source": [
    "# QA for WDPA 2019\n",
    "\n",
    "Stijn den Haan\n",
    "\n",
    "Supervisor: Yichuan Shi\n",
    "\n",
    "Bioinformatics internship • WCMC • 10 June --- 9 August 2019\n",
    "\n",
    "---"
   ]
  },
  {
   "cell_type": "markdown",
   "metadata": {},
   "source": [
    "#### A brief note on diction: \n",
    "\n",
    "- **Offending fields** are fields (columns) that contain values that do not adhere to the rules set in the WDPA manual.\n",
    "- Offending fields are subdivided in **three types**:\n",
    "    - *Duplicate*: specifically, the WDPA_PID should be unique throughout the WDPA\n",
    "    - *Inconsistent*: multiple records (rows) about the same protected area contains conflicting attribute information\n",
    "        - Example: records with the same WDPAID have different values present in the NAME field, e.g. 'De Veluwe' vs 'De VeLUwe'.\n",
    "    - *Invalid*: a record has an incorrect value for a particular field where only a particular set of values is allowed.\n",
    "        - Example: DESIG_TYPE = 'Individual' while only 'National', 'International', and 'Regional' are allowed values for this field.\n",
    "    \n",
    "##### **TO ADD: explain difference in attribute vs field.**"
   ]
  },
  {
   "cell_type": "markdown",
   "metadata": {},
   "source": [
    "Load packages"
   ]
  },
  {
   "cell_type": "code",
   "execution_count": 1,
   "metadata": {},
   "outputs": [],
   "source": [
    "import numpy as np\n",
    "import pandas as pd\n",
    "import arcpy\n",
    "import os"
   ]
  },
  {
   "cell_type": "markdown",
   "metadata": {},
   "source": [
    "Load data"
   ]
  },
  {
   "cell_type": "code",
   "execution_count": 2,
   "metadata": {},
   "outputs": [],
   "source": [
    "# set working directory\n",
    "os.chdir(\"C:/Users/paintern/Desktop/Stijn/5. Scripts\")\n",
    "\n",
    "# load dummy data\n",
    "wdpa_df = pd.read_csv('dummyData.csv', low_memory=False)\n",
    "\n",
    "# load fields present in the WDPA\n",
    "input_fields = ['WDPAID', 'WDPA_PID', 'PA_DEF', 'NAME', 'ORIG_NAME', 'DESIG', \n",
    "      'DESIG_ENG', 'DESIG_TYPE', 'IUCN_CAT', 'INT_CRIT', 'MARINE', 'REP_M_AREA', \n",
    "      'GIS_M_AREA', 'REP_AREA', 'GIS_AREA', 'NO_TAKE', 'NO_TK_AREA', 'STATUS', 'STATUS_YR', \n",
    "      'GOV_TYPE', 'OWN_TYPE', 'MANG_AUTH', 'MANG_PLAN', 'VERIF', 'METADATAID', 'SUB_LOC', 'PARENT_ISO3', 'ISO3', ]"
   ]
  },
  {
   "cell_type": "markdown",
   "metadata": {},
   "source": [
    "### 1. Convert ArcGIS table to Pandas DataFrame"
   ]
  },
  {
   "cell_type": "code",
   "execution_count": null,
   "metadata": {},
   "outputs": [],
   "source": [
    "# Source: https://gist.github.com/d-wasserman/e9c98be1d0caebc2935afecf0ba239a0\n",
    "def arcgis_table_to_df(in_fc, input_fields, query=\"\"):\n",
    "    \"\"\"Function will convert an arcgis table into a pandas dataframe with an object ID index, and the selected\n",
    "    input fields using an arcpy.da.SearchCursor.\"\"\"\n",
    "\n",
    "    OIDFieldName = arcpy.Describe(in_fc).OIDFieldName\n",
    "    final_fields = [OIDFieldName] + input_fields\n",
    "    data = [row for row in arcpy.da.SearchCursor(in_fc,final_fields,where_clause=query)]\n",
    "    fc_dataframe = pd.DataFrame(data,columns=final_fields)\n",
    "    fc_dataframe = fc_dataframe.set_index(OIDFieldName,drop=True)\n",
    "    \n",
    "    return fc_dataframe\n",
    "\n",
    "# wdpa_df = arcgis_table_to_df(wdpa, fields)"
   ]
  },
  {
   "cell_type": "markdown",
   "metadata": {},
   "source": [
    "### 1.1 Verify that the imported data is as expected"
   ]
  },
  {
   "cell_type": "markdown",
   "metadata": {},
   "source": [
    "**Action Point**: Add some error-trapping code to verify that the dimensions of the dataset are as expected: number of rows & columns OK? Otherwise, garbage in, garbage out."
   ]
  },
  {
   "cell_type": "markdown",
   "metadata": {},
   "source": [
    "### 1.2 Utility - (Yichuan: \"focus on later\")"
   ]
  },
  {
   "cell_type": "code",
   "execution_count": null,
   "metadata": {},
   "outputs": [],
   "source": [
    "# find rows of the WDPA based on the WDPA_PID\n",
    "def find_wdpa_rows(wdpa_df, wdpa_pid):\n",
    "    '''\n",
    "    Return a subset of dataframe based on wdpa_pid list\n",
    "\n",
    "    Arguments:\n",
    "    wdpa_df -- wdpa dataframe\n",
    "    wdpa_pid -- a list of WDPA_PID\n",
    "    '''\n",
    "    return wdpa_df[wdpa_df['WDPA_PID'].isin(wdpa_pid)]"
   ]
  },
  {
   "cell_type": "markdown",
   "metadata": {},
   "source": [
    "---"
   ]
  },
  {
   "cell_type": "markdown",
   "metadata": {},
   "source": [
    "### 2. Checks"
   ]
  },
  {
   "cell_type": "markdown",
   "metadata": {},
   "source": [
    ">Checking the validality (True vs False, errors or not) should be implemented as efficiently as possible to avoid having to pull out all 'offending' rows when return_pid is set to **False**"
   ]
  },
  {
   "cell_type": "markdown",
   "metadata": {},
   "source": [
    "#### i. Find duplicate WDPA_PIDs - *works*"
   ]
  },
  {
   "cell_type": "code",
   "execution_count": null,
   "metadata": {},
   "outputs": [],
   "source": [
    "def duplicate_wdpa_pid(wdpa_df, return_pid=False):\n",
    "    '''\n",
    "    Return True if WDPA_PID is duplicate in the dataframe. \n",
    "    \n",
    "    Return list of WDPA_PID, if duplicates are present \n",
    "    and return_pid is set True.\n",
    "    '''\n",
    "\n",
    "    if return_pid:\n",
    "        ids = wdpa_df['WDPA_PID'] # make a variable of the field to find\n",
    "        duplicates = wdpa_df[ids.isin(ids[ids.duplicated()])] # find duplicates\n",
    "        # if preferred, we could store this in a tuple as stated below\n",
    "        #duplicates_tuple = (duplicates)\n",
    "        #return duplicates_tuple\n",
    "        return duplicates # output the duplicates\n",
    "\n",
    "    return wdpa_df['WDPA_PID'].nunique() != wdpa_df.index.size # this returns True if there are WDPA_PID duplicates"
   ]
  },
  {
   "cell_type": "markdown",
   "metadata": {},
   "source": [
    "---"
   ]
  },
  {
   "cell_type": "markdown",
   "metadata": {},
   "source": [
    "#### ii. Find inconsistent fields for the same WDPAID"
   ]
  },
  {
   "cell_type": "markdown",
   "metadata": {},
   "source": [
    "##### Parent function - *works*\n",
    "###### **AP: sort the tuple by WDPAID**\n",
    "###### **Question**: should WDPAID be hardcoded as is, or stored as variable?"
   ]
  },
  {
   "cell_type": "code",
   "execution_count": null,
   "metadata": {},
   "outputs": [],
   "source": [
    "def inconsistent_attributes_same_wdpaid(wdpa_df, \n",
    "                                        check_attribute, \n",
    "                                        return_pid=False):\n",
    "    '''\n",
    "    Factory of functions: this generic function is to be linked to\n",
    "    the family of 'inconsistent' functions stated below. These latter \n",
    "    functions are to give information on which fields to check and pull \n",
    "    from the DataFrame. This function is the foundation of the others.\n",
    "    \n",
    "    Return True if inconsistent attributes are found for rows \n",
    "    sharing the same WDPAID\n",
    "\n",
    "    Return list of WDPA_PID where inconsistencies occur, if \n",
    "    return_pid is set True\n",
    "\n",
    "    Arguments:\n",
    "    check_attributes -- tuple of the attribute(s) to check for inconsistency\n",
    "    '''\n",
    "   \n",
    "    # this function can be repurposed\n",
    "\n",
    "    if return_pid:\n",
    "        # Group by WDPAID to find duplicate WDPAIDs and count the \n",
    "        # number of unique values for the field in question\n",
    "        wdpaid_groups = wdpa_df.groupby('WDPAID')[check_attributes].nunique()\n",
    "\n",
    "        # Select all WDPAID duplicates groups with >1 unique value\n",
    "        # for the specified field ('check_attributes') \n",
    "        # Store the data in a tuple '()'\n",
    "        wdpaid_inconsistent_attributes = (wdpaid_groups[wdpaid_groups > 1])\n",
    "        \n",
    "        #------TO INCLUDE SORT FUNCTION----------------------------------\n",
    "        # Output the inconsistent WDPAIDs \n",
    "        return wdpaid_inconsistent_attributes\n",
    "        #----------------------------------------------------------------\n",
    "        \n",
    "    # Sum the number of times a WDPAID has more than 1 value for a field\n",
    "    return (d.groupby('WDPAID')[check_attributes].nunique() > 1).sum() >= 1"
   ]
  },
  {
   "cell_type": "markdown",
   "metadata": {},
   "source": [
    "##### Child functions "
   ]
  },
  {
   "cell_type": "markdown",
   "metadata": {},
   "source": [
    "###### Inconsistent NAME"
   ]
  },
  {
   "cell_type": "code",
   "execution_count": null,
   "metadata": {},
   "outputs": [],
   "source": [
    "def inconsistent_name_same_wdpaid(wdpa_df, return_pid=False):\n",
    "    '''\n",
    "    This function is to capture inconsistencies in the 'NAME' attribute\n",
    "    for records with the same WDPAID\n",
    "    \n",
    "    Input: WDPA in pandas dataframe \n",
    "    Output: tuple with WDPAIDs containing attribute inconsistencies\n",
    "    '''\n",
    "\n",
    "    check_attributes = ('NAME')\n",
    "    \n",
    "    return inconsistent_attributes_same_wdpaid(wdpa_df, return_pid, check_attributes)"
   ]
  },
  {
   "cell_type": "markdown",
   "metadata": {},
   "source": [
    "###### Inconsistent ORIG_NAME"
   ]
  },
  {
   "cell_type": "code",
   "execution_count": null,
   "metadata": {},
   "outputs": [],
   "source": [
    "def inconsistent_orig_name_same_wdpaid(wdpa_df, return_pid=False):\n",
    "    '''\n",
    "    This function is to capture inconsistencies in the 'ORIG_NAME' attribute\n",
    "    for records with the same WDPAID\n",
    "    \n",
    "    Input: WDPA in pandas dataframe \n",
    "    Output: tuple with WDPAIDs containing attribute inconsistencies\n",
    "    '''\n",
    "\n",
    "    check_attributes = ('ORIG_NAME')\n",
    "    \n",
    "    return inconsistent_attributes_same_wdpaid(wdpa_df, return_pid, check_attributes)"
   ]
  },
  {
   "cell_type": "markdown",
   "metadata": {},
   "source": [
    "###### Inconsistent DESIG"
   ]
  },
  {
   "cell_type": "code",
   "execution_count": null,
   "metadata": {},
   "outputs": [],
   "source": [
    "def inconsistent_desig_same_wdpaid(wdpa_df, return_pid=False):\n",
    "    '''\n",
    "    This function is to capture inconsistencies in the 'DESIG' attribute\n",
    "    for records with the same WDPAID\n",
    "    \n",
    "    Input: WDPA in pandas dataframe \n",
    "    Output: tuple with WDPAIDs containing attribute inconsistencies\n",
    "    '''\n",
    "    \n",
    "    check_attributes = ('DESIG')\n",
    "    \n",
    "    # This loads the parent function\n",
    "    # and adds the check_attributes and return_pid arguments in it\n",
    "    # to evaluate the wdpa_df for these arguments\n",
    "    return inconsistent_attributes_same_wdpaid(wdpa_df, return_pid, check_attributes)"
   ]
  },
  {
   "cell_type": "markdown",
   "metadata": {},
   "source": [
    "###### Inconsistent DESIG_ENG"
   ]
  },
  {
   "cell_type": "code",
   "execution_count": null,
   "metadata": {},
   "outputs": [],
   "source": [
    "def inconsistent_desig_eng_same_wdpaid(wdpa_df, return_pid=False):\n",
    "    '''\n",
    "    This function is to capture inconsistencies in the 'DESIG_ENG' attribute\n",
    "    for records with the same WDPAID\n",
    "    \n",
    "    Input: WDPA in pandas dataframe \n",
    "    Output: tuple with WDPAIDs containing attribute inconsistencies\n",
    "    '''\n",
    "    \n",
    "    check_attributes = ('DESIG_ENG')\n",
    "    \n",
    "    return inconsistent_attributes_same_wdpaid(wdpa_df, return_pid, check_attributes)"
   ]
  },
  {
   "cell_type": "markdown",
   "metadata": {},
   "source": [
    "###### Inconsistent DESIG_TYPE"
   ]
  },
  {
   "cell_type": "code",
   "execution_count": null,
   "metadata": {},
   "outputs": [],
   "source": [
    "def inconsistent_desig_type_same_wdpaid(wdpa_df, return_pid=False):\n",
    "    '''\n",
    "    This function is to capture inconsistencies in the 'DESIG_TYPE' attribute\n",
    "    for records with the same WDPAID\n",
    "    \n",
    "    Input: WDPA in pandas dataframe \n",
    "    Output: tuple with WDPAIDs containing attribute inconsistencies\n",
    "    '''\n",
    "    \n",
    "    check_attributes = ('DESIG_TYPE')\n",
    "    \n",
    "    return inconsistent_attributes_same_wdpaid(wdpa_df, return_pid, check_attributes)"
   ]
  },
  {
   "cell_type": "markdown",
   "metadata": {},
   "source": [
    "###### Inconsistent IUCN_CAT"
   ]
  },
  {
   "cell_type": "code",
   "execution_count": null,
   "metadata": {},
   "outputs": [],
   "source": [
    "def inconsistent_iucn_cat_same_wdpaid(wdpa_df, return_pid=False):\n",
    "    '''\n",
    "    This function is to capture inconsistencies in the 'IUCN_CAT' attribute\n",
    "    for records with the same WDPAID\n",
    "    \n",
    "    Input: WDPA in pandas dataframe \n",
    "    Output: tuple with WDPAIDs containing attribute inconsistencies\n",
    "    '''\n",
    "\n",
    "    check_attributes = ('IUCN_CAT')\n",
    "    \n",
    "    return inconsistent_attributes_same_wdpaid(wdpa_df, return_pid, check_attributes)"
   ]
  },
  {
   "cell_type": "markdown",
   "metadata": {},
   "source": [
    "###### Inconsistent INT_CRIT"
   ]
  },
  {
   "cell_type": "code",
   "execution_count": null,
   "metadata": {},
   "outputs": [],
   "source": [
    "def inconsistent_int_crit_same_wdpaid(wdpa_df, return_pid=False):\n",
    "    '''\n",
    "    This function is to capture inconsistencies in the 'INT_CRIT' attribute\n",
    "    for records with the same WDPAID\n",
    "    \n",
    "    Input: WDPA in pandas dataframe \n",
    "    Output: tuple with WDPAIDs containing attribute inconsistencies\n",
    "    '''\n",
    "\n",
    "    check_attributes = ('INT_CRIT')\n",
    "    \n",
    "    return inconsistent_attributes_same_wdpaid(wdpa_df, return_pid, check_attributes)"
   ]
  },
  {
   "cell_type": "markdown",
   "metadata": {},
   "source": [
    "###### Inconsistent NO_TAKE"
   ]
  },
  {
   "cell_type": "code",
   "execution_count": null,
   "metadata": {},
   "outputs": [],
   "source": [
    "def inconsistent_no_take_same_wdpaid(wdpa_df, return_pid=False):\n",
    "    '''\n",
    "    This function is to capture inconsistencies in the 'NO_TAKE' attribute\n",
    "    for records with the same WDPAID\n",
    "    \n",
    "    Input: WDPA in pandas dataframe \n",
    "    Output: tuple with WDPAIDs containing attribute inconsistencies\n",
    "    '''\n",
    "    check_attributes = ('NO_TAKE')\n",
    "\n",
    "    return inconsistent_attributes_same_wdpaid(wdpa_df, return_pid, check_attributes)"
   ]
  },
  {
   "cell_type": "markdown",
   "metadata": {},
   "source": [
    "###### Inconsistent STATUS"
   ]
  },
  {
   "cell_type": "code",
   "execution_count": null,
   "metadata": {},
   "outputs": [],
   "source": [
    "def inconsistent_status_same_wdpaid(wdpa_df, return_pid=False):\n",
    "    '''\n",
    "    This function is to capture inconsistencies in the 'STATUS' attribute\n",
    "    for records with the same WDPAID\n",
    "    \n",
    "    Input: WDPA in pandas dataframe \n",
    "    Output: tuple with WDPAIDs containing attribute inconsistencies\n",
    "    '''\n",
    "    check_attributes = ('STATUS')\n",
    "\n",
    "    return inconsistent_attributes_same_wdpaid(wdpa_df, return_pid, check_attributes)"
   ]
  },
  {
   "cell_type": "markdown",
   "metadata": {},
   "source": [
    "###### Inconsistent STATUS_YR"
   ]
  },
  {
   "cell_type": "code",
   "execution_count": null,
   "metadata": {},
   "outputs": [],
   "source": [
    "def inconsistent_status_yr_same_wdpaid(wdpa_df, return_pid=False):\n",
    "    '''\n",
    "    This function is to capture inconsistencies in the 'STATUS_YR' attribute\n",
    "    for records with the same WDPAID\n",
    "    \n",
    "    Input: WDPA in pandas dataframe \n",
    "    Output: tuple with WDPAIDs containing attribute inconsistencies\n",
    "    '''\n",
    "    check_attributes = ('STATUS_YR')\n",
    "\n",
    "    return inconsistent_attributes_same_wdpaid(wdpa_df, return_pid, check_attributes)"
   ]
  },
  {
   "cell_type": "markdown",
   "metadata": {},
   "source": [
    "###### Inconsistent GOV_TYPE"
   ]
  },
  {
   "cell_type": "code",
   "execution_count": null,
   "metadata": {},
   "outputs": [],
   "source": [
    "def inconsistent_gov_type_same_wdpaid(wdpa_df, return_pid=False):\n",
    "    '''\n",
    "    This function is to capture inconsistencies in the 'GOV_TYPE' attribute\n",
    "    for records with the same WDPAID\n",
    "    \n",
    "    Input: WDPA in pandas dataframe \n",
    "    Output: tuple with WDPAIDs containing attribute inconsistencies\n",
    "    '''\n",
    "    check_attributes = ('GOV_TYPE')\n",
    "\n",
    "    return inconsistent_attributes_same_wdpaid(wdpa_df, return_pid, check_attributes)"
   ]
  },
  {
   "cell_type": "markdown",
   "metadata": {},
   "source": [
    "###### Inconsistent OWN_TYPE"
   ]
  },
  {
   "cell_type": "code",
   "execution_count": null,
   "metadata": {},
   "outputs": [],
   "source": [
    "def inconsistent_own_type_same_wdpaid(wdpa_df, return_pid=False):\n",
    "    '''\n",
    "    This function is to capture inconsistencies in the 'OWN_TYPE' attribute\n",
    "    for records with the same WDPAID\n",
    "    \n",
    "    Input: WDPA in pandas dataframe \n",
    "    Output: tuple with WDPAIDs containing attribute inconsistencies\n",
    "    '''\n",
    "    check_attributes = ('OWN_TYPE')\n",
    "\n",
    "    return inconsistent_attributes_same_wdpaid(wdpa_df, return_pid, check_attributes)"
   ]
  },
  {
   "cell_type": "markdown",
   "metadata": {},
   "source": [
    "###### Inconsistent MANG_AUTH"
   ]
  },
  {
   "cell_type": "code",
   "execution_count": null,
   "metadata": {},
   "outputs": [],
   "source": [
    "def inconsistent_mang_auth_same_wdpaid(wdpa_df, return_pid=False):\n",
    "    '''\n",
    "    This function is to capture inconsistencies in the 'MANG_AUTH' attribute\n",
    "    for records with the same WDPAID\n",
    "    \n",
    "    Input: WDPA in pandas dataframe \n",
    "    Output: tuple with WDPAIDs containing attribute inconsistencies\n",
    "    '''\n",
    "    \n",
    "    check_attributes = ('MANG_AUTH')\n",
    "    \n",
    "    return inconsistent_attributes_same_wdpaid(wdpa_df, return_pid, check_attributes)"
   ]
  },
  {
   "cell_type": "markdown",
   "metadata": {},
   "source": [
    "###### Inconsistent MANG_PLAN"
   ]
  },
  {
   "cell_type": "code",
   "execution_count": null,
   "metadata": {},
   "outputs": [],
   "source": [
    "def inconsistent_mang_plan_same_wdpaid(wdpa_df, return_pid=False):\n",
    "    '''\n",
    "    This function is to capture inconsistencies in the 'MANG_PLAN' attribute\n",
    "    for records with the same WDPAID\n",
    "    \n",
    "    Input: WDPA in pandas dataframe \n",
    "    Output: tuple with WDPAIDs containing attribute inconsistencies\n",
    "    '''\n",
    "    check_attributes = ('MANG_PLAN')\n",
    "\n",
    "    return inconsistent_attributes_same_wdpaid(wdpa_df, return_pid, check_attributes)"
   ]
  },
  {
   "cell_type": "markdown",
   "metadata": {},
   "source": [
    "###### Inconsistent VERIF"
   ]
  },
  {
   "cell_type": "code",
   "execution_count": null,
   "metadata": {},
   "outputs": [],
   "source": [
    "def inconsistent_verif_same_wdpaid(wdpa_df, return_pid=False):\n",
    "    '''\n",
    "    This function is to capture inconsistencies in the 'VERIF' attribute\n",
    "    for records with the same WDPAID\n",
    "    \n",
    "    Input: WDPA in pandas dataframe \n",
    "    Output: tuple with WDPAIDs containing attribute inconsistencies\n",
    "    '''\n",
    "    check_attributes = ('VERIF')\n",
    "\n",
    "    return inconsistent_attributes_same_wdpaid(wdpa_df, return_pid, check_attributes)"
   ]
  },
  {
   "cell_type": "markdown",
   "metadata": {},
   "source": [
    "###### Inconsistent METADATAID"
   ]
  },
  {
   "cell_type": "code",
   "execution_count": null,
   "metadata": {},
   "outputs": [],
   "source": [
    "def inconsistent_metadataid_same_wdpaid(wdpa_df, return_pid=False):\n",
    "    '''\n",
    "    This function is to capture inconsistencies in the 'METADATAID' attribute\n",
    "    for records with the same WDPAID\n",
    "    \n",
    "    Input: WDPA in pandas dataframe \n",
    "    Output: tuple with WDPAIDs containing attribute inconsistencies\n",
    "    '''\n",
    "    check_attributes = ('METADATAID')\n",
    "\n",
    "    return inconsistent_attributes_same_wdpaid(wdpa_df, return_pid, check_attributes)"
   ]
  },
  {
   "cell_type": "markdown",
   "metadata": {},
   "source": [
    "###### Inconsistent SUB_LOC"
   ]
  },
  {
   "cell_type": "code",
   "execution_count": null,
   "metadata": {},
   "outputs": [],
   "source": [
    "def inconsistent_sub_loc_same_wdpaid(wdpa_df, return_pid=False):\n",
    "    '''\n",
    "    This function is to capture inconsistencies in the 'SUB_LOC' attribute\n",
    "    for records with the same WDPAID\n",
    "    \n",
    "    Input: WDPA in pandas dataframe \n",
    "    Output: tuple with WDPAIDs containing attribute inconsistencies\n",
    "    '''\n",
    "    check_attributes = ('SUB_LOC')\n",
    "\n",
    "    return inconsistent_attributes_same_wdpaid(wdpa_df, return_pid, check_attributes)"
   ]
  },
  {
   "cell_type": "markdown",
   "metadata": {},
   "source": [
    "###### Inconsistent PARENT_ISO3"
   ]
  },
  {
   "cell_type": "code",
   "execution_count": null,
   "metadata": {},
   "outputs": [],
   "source": [
    "def inconsistent_parent_iso3_same_wdpaid(wdpa_df, return_pid=False):\n",
    "    '''\n",
    "    This function is to capture inconsistencies in the 'PARENT_ISO3' attribute\n",
    "    for records with the same WDPAID\n",
    "    \n",
    "    Input: WDPA in pandas dataframe \n",
    "    Output: tuple with WDPAIDs containing attribute inconsistencies\n",
    "    '''\n",
    "    check_attributes = ('PARENT_ISO3')\n",
    "\n",
    "    return inconsistent_attributes_same_wdpaid(wdpa_df, return_pid, check_attributes)"
   ]
  },
  {
   "cell_type": "markdown",
   "metadata": {},
   "source": [
    "###### Inconsistent ISO3"
   ]
  },
  {
   "cell_type": "code",
   "execution_count": null,
   "metadata": {},
   "outputs": [],
   "source": [
    "def inconsistent_iso3_same_wdpaid(wdpa_df, return_pid=False):\n",
    "    '''\n",
    "    This function is to capture inconsistencies in the 'ISO3' attribute\n",
    "    for records with the same WDPAID\n",
    "    \n",
    "    Input: WDPA in pandas dataframe \n",
    "    Output: tuple with WDPAIDs containing attribute inconsistencies\n",
    "    '''\n",
    "    check_attributes = ('ISO3')\n",
    "\n",
    "    return inconsistent_attributes_same_wdpaid(wdpa_df, return_pid, check_attributes)"
   ]
  },
  {
   "cell_type": "markdown",
   "metadata": {},
   "source": [
    "---"
   ]
  },
  {
   "cell_type": "markdown",
   "metadata": {},
   "source": [
    "#### iii. Find invalid values in fields\n",
    "##### Parent function - **AP: shorten invalid check without returning all rows**"
   ]
  },
  {
   "cell_type": "code",
   "execution_count": null,
   "metadata": {},
   "outputs": [],
   "source": [
    "def invalid_value_in_field(wdpa_df, field, field_allowed_values, condition, return_pid=False):\n",
    "    '''\n",
    "    This function checks the WDPA for invalid values and returns a tuple of WDPA_PIDs \n",
    "    that have invalid values for the specified field(s).\n",
    "    \n",
    "    This function is to be linked to the family of 'invalid field'-checking functions. \n",
    "    These latter functions give specific information on the fields to be checked, and how.\n",
    "        \n",
    "    Return True if invalid values are found in specified fields\n",
    "    Return tuple of WDPA_PIDs with invalid fields, if return_pid is set True\n",
    "\n",
    "    ## Arguments ##\n",
    "    \n",
    "    field -- the field to be checked for invalid values\n",
    "    \n",
    "    field_allowed_values -- expected values in each field, case sensitive\n",
    "    \n",
    "    condition_field -- a constraint of another field for evaluating \n",
    "                       invalid value, leave \"\" if no condition specified\n",
    "    \n",
    "    condition_crit --  a tuple of values for which the condition_field \n",
    "                       needs to be evaluated, leave \"\" if no condition specified\n",
    "\n",
    "    ## Example ##\n",
    "    def invalid_value_in_field(wdpa_df, field):\n",
    "        field_allowed_values=(\"Ramsar Site, Wetland of International Importance\", \n",
    "                              \"UNESCO-MAB Biosphere Reserve\", \n",
    "                              \"World Heritage Site (natural or mixed)),\n",
    "        condition_field= (\"DESIG_TYPE\")\n",
    "        condition_crit= (\"International\")\n",
    "        return_pid=True\n",
    "    '''\n",
    "    \n",
    "    if return_pid:\n",
    "        # Select the cells that are invalid, based on a set condition\n",
    "        if condition_field & condition_crit: # runs if condition_field and condition_crit are not empty\n",
    "            invalid_values = wdpa_df[~wdpa_df[field].isin(field_allowed_values) & \n",
    "                                      wdpa_df[condition_field].isin(condition_crit)] \n",
    "        \n",
    "        else: # if no condition is specified (i.e. tuples are empty)\n",
    "            invalid_values = wdpa_df[~wdpa[field].isin(field_allowed_values)]\n",
    "        \n",
    "        # Store the WDPAIDs of the records with invalid values in a tuple\n",
    "        invalid_values_tuple = (invalid_values[\"WDPA_PID\"])\n",
    "    \n",
    "        # Output the invalid values\n",
    "        return invalid_values_tuple\n",
    "    \n",
    "    #### AP: This is longer than it should be ####\n",
    "    if condition_field & condition_crit:\n",
    "        return len(wdpa_df[~wdpa_df[field].isin(field_allowed_values) & \n",
    "                            wdpa_df[condition_field].isin(condition_crit)] ) >= 1\n",
    "    else:\n",
    "        return len(wdpa_df[~wdpa[field].isin(field_allowed_values)]) >= 1"
   ]
  },
  {
   "cell_type": "markdown",
   "metadata": {},
   "source": [
    "##### Child functions"
   ]
  },
  {
   "cell_type": "markdown",
   "metadata": {},
   "source": [
    "###### Invalid PA_DEF"
   ]
  },
  {
   "cell_type": "code",
   "execution_count": null,
   "metadata": {},
   "outputs": [],
   "source": [
    "def invalid_pa_def(wdpa_df, return_pid=False):\n",
    "    '''\n",
    "    Return True if PA_DEF not 1\n",
    "    Return list of WDPA_PIDs where PA_DEF is not 1, if return_pid is set True\n",
    "    '''\n",
    "\n",
    "    field = ('PA_DEF')\n",
    "    field_allowed_values = [1]\n",
    "    condition_field = ('')\n",
    "    condition_crit = ['']\n",
    "\n",
    "    return invalid_value_in_field(wdpa_df, field, field_allowed_values, condition, return_pid)"
   ]
  },
  {
   "cell_type": "markdown",
   "metadata": {},
   "source": [
    "###### Invalid DESIG_ENG International"
   ]
  },
  {
   "cell_type": "code",
   "execution_count": null,
   "metadata": {},
   "outputs": [],
   "source": [
    "def invalid_desig_eng_international(wdpa_df, return_pid=False):\n",
    "    '''\n",
    "    Return True if DESIG_ENG is invalid while DESIG_TYPE is 'International'\n",
    "    Return list of WDPA_PIDs where DESIG_ENG is invalid, if return_pid is set True\n",
    "    '''\n",
    "    \n",
    "    field = ('DESIG_ENG')\n",
    "    field_allowed_values = ['Ramsar Site', \n",
    "                            'Wetland of International Importance', \n",
    "                            'UNESCO-MAB Biosphere Reserve', \n",
    "                            'World Heritage Site (natural or mixed)']\n",
    "    condition_field = ('DESIG_TYPE')\n",
    "    condition_crit = ['International']\n",
    "    \n",
    "    return"
   ]
  },
  {
   "cell_type": "markdown",
   "metadata": {},
   "source": [
    "###### Invalid DESIG_ENG for Ramsar & World Heritage Sites \n",
    "#### **AP: To fix**"
   ]
  },
  {
   "cell_type": "code",
   "execution_count": null,
   "metadata": {},
   "outputs": [],
   "source": [
    "def invalid_desig_eng_ramsar_whs(wdpa_df, return_pid=False):\n",
    "     '''\n",
    "    Return True if DESIG_ENG is invalid while INT_CRIT is 'Not Applicable'\n",
    "    Return list of WDPA_PIDs where DESIG_ENG is invalid, if return_pid is set True\n",
    "    '''\n",
    "    \n",
    "    field = ('DESIG_ENG')\n",
    "    field_allowed_values = ['UNESCO-MAB Biosphere Reserve', \n",
    "                            'World Heritage Site (natural or mixed)']\n",
    "    condition_field = ('DESIG_TYPE')\n",
    "    condition_crit = ['International']\n",
    "    return"
   ]
  },
  {
   "cell_type": "markdown",
   "metadata": {},
   "source": [
    "###### Invalid DESIG_ENG Regional"
   ]
  },
  {
   "cell_type": "code",
   "execution_count": null,
   "metadata": {},
   "outputs": [],
   "source": [
    "def invalid_desig_eng_regional(wdpa_df, return_pid=False):\n",
    "    return"
   ]
  },
  {
   "cell_type": "markdown",
   "metadata": {},
   "source": [
    "###### Invalid DESIG_ENG Ramsar Site & WHS"
   ]
  },
  {
   "cell_type": "code",
   "execution_count": null,
   "metadata": {},
   "outputs": [],
   "source": []
  },
  {
   "cell_type": "code",
   "execution_count": null,
   "metadata": {},
   "outputs": [],
   "source": []
  },
  {
   "cell_type": "code",
   "execution_count": null,
   "metadata": {},
   "outputs": [],
   "source": [
    "def invalid_desig_eng_int_crit(wdpa_df, return_pid=False):\n",
    "    return"
   ]
  },
  {
   "cell_type": "code",
   "execution_count": null,
   "metadata": {},
   "outputs": [],
   "source": []
  },
  {
   "cell_type": "code",
   "execution_count": null,
   "metadata": {},
   "outputs": [],
   "source": []
  },
  {
   "cell_type": "code",
   "execution_count": null,
   "metadata": {},
   "outputs": [],
   "source": []
  },
  {
   "cell_type": "code",
   "execution_count": null,
   "metadata": {},
   "outputs": [],
   "source": []
  },
  {
   "cell_type": "code",
   "execution_count": null,
   "metadata": {},
   "outputs": [],
   "source": []
  },
  {
   "cell_type": "code",
   "execution_count": null,
   "metadata": {},
   "outputs": [],
   "source": []
  },
  {
   "cell_type": "markdown",
   "metadata": {},
   "source": [
    "###### Invalid DESIG_TYPE"
   ]
  },
  {
   "cell_type": "code",
   "execution_count": null,
   "metadata": {},
   "outputs": [],
   "source": [
    "def invalid_desig_type(wdpa_df, return_pid=False):\n",
    "    '''\n",
    "    Return True if DESIG_TYPE is not \"National\", \"Regional\", \"International\" or \"Not Applicable\"\n",
    "    Return list of WDPA_PIDs where DESIG_TYPE is invalid, if return_pid is set True\n",
    "    '''\n",
    "\n",
    "    field = ('DESIG_TYPE')\n",
    "    field_allowed_values = ['National', 'Regional', 'International', 'Not Applicable']\n",
    "    condition_field = ('')\n",
    "    condition_crit = ['']\n",
    "\n",
    "    return invalid_value_in_field(wdpa_df, field, field_allowed_values, condition, return_pid)"
   ]
  },
  {
   "cell_type": "markdown",
   "metadata": {},
   "source": [
    "###### Invalid IUCN_CAT"
   ]
  },
  {
   "cell_type": "code",
   "execution_count": null,
   "metadata": {},
   "outputs": [],
   "source": [
    "def invalid_iucn_cat(wdpa_df, return_pid=False):\n",
    "    '''\n",
    "    Return True if IUCN_CAT is not equal to allowed values\n",
    "    Return tuple of WDPA_PIDs where IUCN_CAT is invalid, if return_pid is set True\n",
    "    '''\n",
    "    \n",
    "    field = ('IUCN_CAT')\n",
    "    field_allowed_values = [\"Ia\", \"Ib\", \"II\", \"III\", \n",
    "                            \"IV\", \"V\", \"VI\", \n",
    "                            \"Not Reported\", \n",
    "                            \"Not Applicable\", \n",
    "                            \"Not Assigned\"]\n",
    "    condition_field = ('')\n",
    "    condition_crit = ['']\n",
    "    \n",
    "    return invalid_value_in_field(wdpa_df, field, field_allowed_values, condition, return_pid)"
   ]
  },
  {
   "cell_type": "markdown",
   "metadata": {},
   "source": [
    "###### Invalid IUCN_CAT for UNESCO-MAB and World Heritage Sites"
   ]
  },
  {
   "cell_type": "code",
   "execution_count": null,
   "metadata": {},
   "outputs": [],
   "source": [
    "def invalid_iucn_cat_unesco_whs(wdpa_df, return_pid=False):\n",
    "    '''\n",
    "    Return True if IUCN_CAT is \"Not Applicable\" and DESIG_ENG is UNESCO-MAB or World Heritage Site\n",
    "    Return tuple of WDPA_PIDs where IUCN_CAT is invalid, if return_pid is set True\n",
    "    '''\n",
    "    \n",
    "    field = ('IUCN_CAT')\n",
    "    field_allowed_values = ['Not Applicable']\n",
    "    condition_field = ('DESIG_ENG')\n",
    "    condition_crit = ['UNESCO-MAB Biosphere Reserve', \n",
    "                      'World Heritage Site (natural or mixed)']\n",
    "    \n",
    "    return invalid_value_in_field(wdpa_df, field, field_allowed_values, condition, return_pid)"
   ]
  },
  {
   "cell_type": "markdown",
   "metadata": {},
   "source": [
    "###### Invalid INT_CRIT"
   ]
  },
  {
   "cell_type": "code",
   "execution_count": null,
   "metadata": {},
   "outputs": [],
   "source": [
    "def invalid_int_crit(wdpa_df, return_pid=False):\n",
    "    '''\n",
    "    Return list of WDPA_PID where invalid characters (space, comma), are present \n",
    "    '''   \n",
    "    return"
   ]
  },
  {
   "cell_type": "markdown",
   "metadata": {},
   "source": [
    "###### Invalid MARINE"
   ]
  },
  {
   "cell_type": "code",
   "execution_count": null,
   "metadata": {},
   "outputs": [],
   "source": [
    "def invalid_marine(wdpa_df, return_pid=False):\n",
    "    return"
   ]
  },
  {
   "cell_type": "markdown",
   "metadata": {},
   "source": [
    "###### Invalid STATUS"
   ]
  },
  {
   "cell_type": "code",
   "execution_count": null,
   "metadata": {},
   "outputs": [],
   "source": [
    "def invalid_status(wdpa_df, return_pid=False):\n",
    "    return"
   ]
  },
  {
   "cell_type": "markdown",
   "metadata": {},
   "source": [
    "###### Invalid STATUS_YR"
   ]
  },
  {
   "cell_type": "code",
   "execution_count": null,
   "metadata": {},
   "outputs": [],
   "source": [
    "def invalid_status_yr(wdpa_df, return_pid=False):\n",
    "    return"
   ]
  },
  {
   "cell_type": "markdown",
   "metadata": {},
   "source": [
    "###### Invalid GOV_TYPE"
   ]
  },
  {
   "cell_type": "code",
   "execution_count": null,
   "metadata": {},
   "outputs": [],
   "source": [
    "def invalid_gov_type(wdpa_df, return_pid=False):\n",
    "    return"
   ]
  },
  {
   "cell_type": "markdown",
   "metadata": {},
   "source": [
    "###### Invalid OWN_TYPE"
   ]
  },
  {
   "cell_type": "code",
   "execution_count": null,
   "metadata": {},
   "outputs": [],
   "source": [
    "def invalid_own_type(wdpa_df, return_pid=False):\n",
    "    return"
   ]
  },
  {
   "cell_type": "markdown",
   "metadata": {},
   "source": [
    "###### Invalid VERIF"
   ]
  },
  {
   "cell_type": "code",
   "execution_count": null,
   "metadata": {},
   "outputs": [],
   "source": [
    "def invalid_verif(wdpa_df, return_pid=False):\n",
    "    return"
   ]
  },
  {
   "cell_type": "markdown",
   "metadata": {},
   "source": [
    "###### Invalid METADATAID"
   ]
  },
  {
   "cell_type": "code",
   "execution_count": null,
   "metadata": {},
   "outputs": [],
   "source": [
    "def invalid_metadataid(wdpa_df, return_pid=False):\n",
    "    return"
   ]
  },
  {
   "cell_type": "markdown",
   "metadata": {},
   "source": [
    "###### Invalid GIS_AREA"
   ]
  },
  {
   "cell_type": "code",
   "execution_count": null,
   "metadata": {},
   "outputs": [],
   "source": [
    "def invalid_gis_area(wdpa_df, return_pid=False):\n",
    "    '''\n",
    "    Return list of WDPA_PID where value small GIS_AREA are present \n",
    "    '''\n",
    "    return "
   ]
  },
  {
   "cell_type": "markdown",
   "metadata": {},
   "source": [
    "#### iv. Marine data checks"
   ]
  },
  {
   "cell_type": "code",
   "execution_count": null,
   "metadata": {},
   "outputs": [],
   "source": [
    "# hard code the rules for marine fields\n",
    "def invalid_marine_areas(wdpa_df, return_pid=False):\n",
    "    # all areal inconsistency to be pickup here and specified\n",
    "    return\n",
    "\n",
    "def invalid_no_take(wdpa_df, return_pid=False):\n",
    "    # no take and no take are\n",
    "    return"
   ]
  },
  {
   "cell_type": "code",
   "execution_count": null,
   "metadata": {},
   "outputs": [],
   "source": []
  }
 ],
 "metadata": {
  "kernelspec": {
   "display_name": "Python 3",
   "language": "python",
   "name": "python3"
  },
  "language_info": {
   "codemirror_mode": {
    "name": "ipython",
    "version": 3
   },
   "file_extension": ".py",
   "mimetype": "text/x-python",
   "name": "python",
   "nbconvert_exporter": "python",
   "pygments_lexer": "ipython3",
   "version": "3.6.6"
  }
 },
 "nbformat": 4,
 "nbformat_minor": 2
}

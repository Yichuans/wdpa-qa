{
 "cells": [
  {
   "cell_type": "markdown",
   "metadata": {},
   "source": [
    "# QA for WDPA 2019\n",
    "\n",
    "Stijn den Haan\n",
    "\n",
    "Supervisor: Yichuan Shi\n",
    "\n",
    "Bioinformatics internship • WCMC • 10 June --- 9 August 2019\n",
    "\n",
    "---"
   ]
  },
  {
   "cell_type": "markdown",
   "metadata": {},
   "source": [
    "#### A brief note on diction: \n",
    "\n",
    "- **Offending fields** are fields (columns) that contain values that do not adhere to the rules set in the WDPA manual.\n",
    "- Offending fields are subdivided in **three types**:\n",
    "    - *Duplicate*: specifically, the WDPA_PID should be unique throughout the WDPA\n",
    "    - *Inconsistent*: multiple records (rows) about the same protected area contains conflicting attribute information\n",
    "        - Example: records with the same WDPAID have different values present in the NAME field, e.g. 'De Veluwe' vs 'De VeLUwe'.\n",
    "    - *Invalid*: a record has an incorrect value for a particular field where only a particular set of values is allowed.\n",
    "        - Example: DESIG_TYPE = 'Individual' while only 'National', 'International', and 'Regional' are allowed values for this field.\n",
    "    \n",
    "### **AP: add an explanation of the difference in attribute vs field.**\n",
    "---"
   ]
  },
  {
   "cell_type": "markdown",
   "metadata": {},
   "source": [
    "###### Load packages"
   ]
  },
  {
   "cell_type": "code",
   "execution_count": 7,
   "metadata": {},
   "outputs": [],
   "source": [
    "import numpy as np\n",
    "import pandas as pd\n",
    "import arcpy\n",
    "import datetime\n",
    "import os"
   ]
  },
  {
   "cell_type": "markdown",
   "metadata": {},
   "source": [
    "###### Load data"
   ]
  },
  {
   "cell_type": "code",
   "execution_count": 2,
   "metadata": {},
   "outputs": [],
   "source": [
    "# set working directory\n",
    "os.chdir(\"C:/Users/paintern/Desktop/Stijn/5. Scripts\")\n",
    "\n",
    "# load dummy data\n",
    "wdpa_df = pd.read_csv('dummyData.csv', low_memory=False)\n",
    "\n",
    "# load fields present in the WDPA\n",
    "input_fields = ['WDPAID', 'WDPA_PID', 'PA_DEF', 'NAME', 'ORIG_NAME', 'DESIG', \n",
    "      'DESIG_ENG', 'DESIG_TYPE', 'IUCN_CAT', 'INT_CRIT', 'MARINE', 'REP_M_AREA', \n",
    "      'GIS_M_AREA', 'REP_AREA', 'GIS_AREA', 'NO_TAKE', 'NO_TK_AREA', 'STATUS', 'STATUS_YR', \n",
    "      'GOV_TYPE', 'OWN_TYPE', 'MANG_AUTH', 'MANG_PLAN', 'VERIF', 'METADATAID', 'SUB_LOC', 'PARENT_ISO3', 'ISO3', ]"
   ]
  },
  {
   "cell_type": "markdown",
   "metadata": {},
   "source": [
    "---\n",
    "### 1. Convert ArcGIS table to Pandas DataFrame\n",
    "---"
   ]
  },
  {
   "cell_type": "code",
   "execution_count": null,
   "metadata": {},
   "outputs": [],
   "source": [
    "# Source: https://gist.github.com/d-wasserman/e9c98be1d0caebc2935afecf0ba239a0\n",
    "def arcgis_table_to_df(in_fc, input_fields, query=\"\"):\n",
    "    \"\"\"Function will convert an arcgis table into a pandas dataframe with an object ID index, and the selected\n",
    "    input fields using an arcpy.da.SearchCursor.\"\"\"\n",
    "\n",
    "    OIDFieldName = arcpy.Describe(in_fc).OIDFieldName\n",
    "    final_fields = [OIDFieldName] + input_fields\n",
    "    data = [row for row in arcpy.da.SearchCursor(in_fc,final_fields,where_clause=query)]\n",
    "    fc_dataframe = pd.DataFrame(data,columns=final_fields)\n",
    "    fc_dataframe = fc_dataframe.set_index(OIDFieldName,drop=True)\n",
    "    \n",
    "    return fc_dataframe\n",
    "\n",
    "# wdpa_df = arcgis_table_to_df(wdpa, fields)"
   ]
  },
  {
   "cell_type": "markdown",
   "metadata": {},
   "source": [
    "---\n",
    "### 2. Verify that the imported data is as expected\n",
    "---"
   ]
  },
  {
   "cell_type": "markdown",
   "metadata": {},
   "source": [
    "### **Action Point**: Add some error-trapping code to verify that the dimensions of the dataset are as expected: number of rows & columns OK? Otherwise, garbage in, garbage out.\n",
    "\n",
    "If dataset does not contain fields from input field: raise error. Ensure all fields are in the dataset."
   ]
  },
  {
   "cell_type": "code",
   "execution_count": null,
   "metadata": {},
   "outputs": [],
   "source": [
    "def invalid_data_import(wdpa_df):\n",
    "    '''\n",
    "    Return True if the data imported does not contain all expected fields.\n",
    "    '''\n",
    "    \n",
    "    #someCode ....  \n",
    "    \n",
    "    return fieldsExpected != fieldsPresent"
   ]
  },
  {
   "cell_type": "markdown",
   "metadata": {},
   "source": [
    "---\n",
    "### 3. Utility to pull rows from the WDPA, based on WDPA_PID input\n",
    "---"
   ]
  },
  {
   "cell_type": "code",
   "execution_count": null,
   "metadata": {},
   "outputs": [],
   "source": [
    "def find_wdpa_rows(wdpa_df, wdpa_pid):\n",
    "    '''\n",
    "    Return a subset of dataframe based on wdpa_pid list\n",
    "\n",
    "    Arguments:\n",
    "    wdpa_df -- wdpa dataframe\n",
    "    wdpa_pid -- a list of WDPA_PID\n",
    "    '''\n",
    "    \n",
    "    return wdpa_df[wdpa_df['WDPA_PID'].isin(wdpa_pid)]"
   ]
  },
  {
   "cell_type": "markdown",
   "metadata": {},
   "source": [
    "---\n",
    "### 4. Checks\n",
    "---"
   ]
  },
  {
   "cell_type": "markdown",
   "metadata": {},
   "source": [
    "Checking the validality (True vs False, errors or not) should be implemented as efficiently as possible to avoid having to pull out all 'offending' rows when return_pid is set to **False**"
   ]
  },
  {
   "cell_type": "markdown",
   "metadata": {},
   "source": [
    "---\n",
    "#### **i. Find duplicate WDPA_PIDs**\n",
    "---"
   ]
  },
  {
   "cell_type": "code",
   "execution_count": null,
   "metadata": {},
   "outputs": [],
   "source": [
    "def duplicate_wdpa_pid(wdpa_df, return_pid=False):\n",
    "    '''\n",
    "    Return True if WDPA_PID is duplicate in the dataframe. \n",
    "    \n",
    "    Return list of WDPA_PID, if duplicates are present \n",
    "    and return_pid is set True.\n",
    "    '''\n",
    "\n",
    "    if return_pid:\n",
    "        ids = wdpa_df['WDPA_PID'] # make a variable of the field to find\n",
    "        return ids[ids.duplicated()].unique() # return duplicate WDPA_PIDs\n",
    "\n",
    "    return wdpa_df['WDPA_PID'].nunique() != wdpa_df.index.size # this returns True if there are WDPA_PID duplicates"
   ]
  },
  {
   "cell_type": "markdown",
   "metadata": {},
   "source": [
    "---\n",
    "#### **ii. Find inconsistent fields for the same WDPAID**\n",
    "---"
   ]
  },
  {
   "cell_type": "markdown",
   "metadata": {},
   "source": [
    "##### Parent function"
   ]
  },
  {
   "cell_type": "code",
   "execution_count": null,
   "metadata": {},
   "outputs": [],
   "source": [
    "def inconsistent_attributes_same_wdpaid(wdpa_df, \n",
    "                                        check_attribute, \n",
    "                                        return_pid=False):\n",
    "    '''\n",
    "    Factory of functions: this generic function is to be linked to\n",
    "    the family of 'inconsistent' functions stated below. These latter \n",
    "    functions are to give information on which fields to check and pull \n",
    "    from the DataFrame. This function is the foundation of the others.\n",
    "    \n",
    "    Return True if inconsistent attributes are found for rows \n",
    "    sharing the same WDPAID\n",
    "\n",
    "    Return list of WDPA_PID where inconsistencies occur, if \n",
    "    return_pid is set True\n",
    "\n",
    "    Arguments:\n",
    "    check_attributes -- list of the attribute(s) to check for inconsistency\n",
    "    '''\n",
    "\n",
    "    if return_pid:\n",
    "        # Group by WDPAID to find duplicate WDPAIDs and count the \n",
    "        # number of unique values for the field in question\n",
    "        wdpaid_groups = wdpa_df.groupby(['WDPAID'])[check_attributes].nunique()\n",
    "\n",
    "        # Select all WDPAID duplicates groups with >1 unique value for \n",
    "        # specified field ('check_attributtes') and use their index to\n",
    "        # return the WDPA_PIDs\n",
    "        return wdpa_df[wdpa_df[\"WDPAID\"].isin(wdpaid_groups[wdpaid_groups >1].index)][\"WDPA_PID\"].values\n",
    "                \n",
    "    # Sum the number of times a WDPAID has more than 1 value for a field\n",
    "    return (wdpa_df.groupby('WDPAID')[check_attributes].nunique() > 1).sum() >= 1"
   ]
  },
  {
   "cell_type": "markdown",
   "metadata": {},
   "source": [
    "##### Child functions "
   ]
  },
  {
   "cell_type": "markdown",
   "metadata": {},
   "source": [
    "###### Inconsistent NAME\n",
    "\n",
    "### **Change tuple to list**"
   ]
  },
  {
   "cell_type": "code",
   "execution_count": null,
   "metadata": {},
   "outputs": [],
   "source": [
    "def inconsistent_name_same_wdpaid(wdpa_df, return_pid=False):\n",
    "    '''\n",
    "    This function is to capture inconsistencies in the 'NAME' attribute\n",
    "    for records with the same WDPAID\n",
    "    \n",
    "    Input: WDPA in pandas dataframe \n",
    "    Output: list with WDPAIDs containing attribute inconsistencies\n",
    "    '''\n",
    "\n",
    "    check_attributes = ('NAME')\n",
    "    \n",
    "    # The command below loads the parent function\n",
    "    # and adds the check_attributes and return_pid arguments in it\n",
    "    # to evaluate the wdpa_df for these arguments\n",
    "    return inconsistent_attributes_same_wdpaid(wdpa_df, return_pid, check_attributes)"
   ]
  },
  {
   "cell_type": "markdown",
   "metadata": {},
   "source": [
    "###### Inconsistent ORIG_NAME"
   ]
  },
  {
   "cell_type": "code",
   "execution_count": null,
   "metadata": {},
   "outputs": [],
   "source": [
    "def inconsistent_orig_name_same_wdpaid(wdpa_df, return_pid=False):\n",
    "    '''\n",
    "    This function is to capture inconsistencies in the 'ORIG_NAME' attribute\n",
    "    for records with the same WDPAID\n",
    "    \n",
    "    Input: WDPA in pandas dataframe \n",
    "    Output: list with WDPAIDs containing attribute inconsistencies\n",
    "    '''\n",
    "\n",
    "    check_attributes = ('ORIG_NAME')\n",
    "    \n",
    "    return inconsistent_attributes_same_wdpaid(wdpa_df, return_pid, check_attributes)"
   ]
  },
  {
   "cell_type": "markdown",
   "metadata": {},
   "source": [
    "###### Inconsistent DESIG"
   ]
  },
  {
   "cell_type": "code",
   "execution_count": null,
   "metadata": {},
   "outputs": [],
   "source": [
    "def inconsistent_desig_same_wdpaid(wdpa_df, return_pid=False):\n",
    "    '''\n",
    "    This function is to capture inconsistencies in the 'DESIG' attribute\n",
    "    for records with the same WDPAID\n",
    "    \n",
    "    Input: WDPA in pandas dataframe \n",
    "    Output: list with WDPAIDs containing attribute inconsistencies\n",
    "    '''\n",
    "    \n",
    "    check_attributes = ('DESIG')\n",
    "    \n",
    "    return inconsistent_attributes_same_wdpaid(wdpa_df, return_pid, check_attributes)"
   ]
  },
  {
   "cell_type": "markdown",
   "metadata": {},
   "source": [
    "###### Inconsistent DESIG_ENG"
   ]
  },
  {
   "cell_type": "code",
   "execution_count": null,
   "metadata": {},
   "outputs": [],
   "source": [
    "def inconsistent_desig_eng_same_wdpaid(wdpa_df, return_pid=False):\n",
    "    '''\n",
    "    This function is to capture inconsistencies in the 'DESIG_ENG' attribute\n",
    "    for records with the same WDPAID\n",
    "    \n",
    "    Input: WDPA in pandas dataframe \n",
    "    Output: list with WDPAIDs containing attribute inconsistencies\n",
    "    '''\n",
    "    \n",
    "    check_attributes = ('DESIG_ENG')\n",
    "    \n",
    "    return inconsistent_attributes_same_wdpaid(wdpa_df, return_pid, check_attributes)"
   ]
  },
  {
   "cell_type": "markdown",
   "metadata": {},
   "source": [
    "###### Inconsistent DESIG_TYPE"
   ]
  },
  {
   "cell_type": "code",
   "execution_count": null,
   "metadata": {},
   "outputs": [],
   "source": [
    "def inconsistent_desig_type_same_wdpaid(wdpa_df, return_pid=False):\n",
    "    '''\n",
    "    This function is to capture inconsistencies in the 'DESIG_TYPE' attribute\n",
    "    for records with the same WDPAID\n",
    "    \n",
    "    Input: WDPA in pandas dataframe \n",
    "    Output: list with WDPAIDs containing attribute inconsistencies\n",
    "    '''\n",
    "    \n",
    "    check_attributes = ('DESIG_TYPE')\n",
    "    \n",
    "    return inconsistent_attributes_same_wdpaid(wdpa_df, return_pid, check_attributes)"
   ]
  },
  {
   "cell_type": "markdown",
   "metadata": {},
   "source": [
    "###### Inconsistent IUCN_CAT"
   ]
  },
  {
   "cell_type": "code",
   "execution_count": null,
   "metadata": {},
   "outputs": [],
   "source": [
    "def inconsistent_iucn_cat_same_wdpaid(wdpa_df, return_pid=False):\n",
    "    '''\n",
    "    This function is to capture inconsistencies in the 'IUCN_CAT' attribute\n",
    "    for records with the same WDPAID\n",
    "    \n",
    "    Input: WDPA in pandas dataframe \n",
    "    Output: list with WDPAIDs containing attribute inconsistencies\n",
    "    '''\n",
    "\n",
    "    check_attributes = ('IUCN_CAT')\n",
    "    \n",
    "    return inconsistent_attributes_same_wdpaid(wdpa_df, return_pid, check_attributes)"
   ]
  },
  {
   "cell_type": "markdown",
   "metadata": {},
   "source": [
    "###### Inconsistent INT_CRIT"
   ]
  },
  {
   "cell_type": "code",
   "execution_count": null,
   "metadata": {},
   "outputs": [],
   "source": [
    "def inconsistent_int_crit_same_wdpaid(wdpa_df, return_pid=False):\n",
    "    '''\n",
    "    This function is to capture inconsistencies in the 'INT_CRIT' attribute\n",
    "    for records with the same WDPAID\n",
    "    \n",
    "    Input: WDPA in pandas dataframe \n",
    "    Output: list with WDPAIDs containing attribute inconsistencies\n",
    "    '''\n",
    "\n",
    "    check_attributes = ('INT_CRIT')\n",
    "    \n",
    "    return inconsistent_attributes_same_wdpaid(wdpa_df, return_pid, check_attributes)"
   ]
  },
  {
   "cell_type": "markdown",
   "metadata": {},
   "source": [
    "###### Inconsistent NO_TAKE"
   ]
  },
  {
   "cell_type": "code",
   "execution_count": null,
   "metadata": {},
   "outputs": [],
   "source": [
    "def inconsistent_no_take_same_wdpaid(wdpa_df, return_pid=False):\n",
    "    '''\n",
    "    This function is to capture inconsistencies in the 'NO_TAKE' attribute\n",
    "    for records with the same WDPAID\n",
    "    \n",
    "    Input: WDPA in pandas dataframe \n",
    "    Output: list with WDPAIDs containing attribute inconsistencies\n",
    "    '''\n",
    "    check_attributes = ('NO_TAKE')\n",
    "\n",
    "    return inconsistent_attributes_same_wdpaid(wdpa_df, return_pid, check_attributes)"
   ]
  },
  {
   "cell_type": "markdown",
   "metadata": {},
   "source": [
    "###### Inconsistent STATUS"
   ]
  },
  {
   "cell_type": "code",
   "execution_count": null,
   "metadata": {},
   "outputs": [],
   "source": [
    "def inconsistent_status_same_wdpaid(wdpa_df, return_pid=False):\n",
    "    '''\n",
    "    This function is to capture inconsistencies in the 'STATUS' attribute\n",
    "    for records with the same WDPAID\n",
    "    \n",
    "    Input: WDPA in pandas dataframe \n",
    "    Output: list with WDPAIDs containing attribute inconsistencies\n",
    "    '''\n",
    "    check_attributes = ('STATUS')\n",
    "\n",
    "    return inconsistent_attributes_same_wdpaid(wdpa_df, return_pid, check_attributes)"
   ]
  },
  {
   "cell_type": "markdown",
   "metadata": {},
   "source": [
    "###### Inconsistent STATUS_YR"
   ]
  },
  {
   "cell_type": "code",
   "execution_count": null,
   "metadata": {},
   "outputs": [],
   "source": [
    "def inconsistent_status_yr_same_wdpaid(wdpa_df, return_pid=False):\n",
    "    '''\n",
    "    This function is to capture inconsistencies in the 'STATUS_YR' attribute\n",
    "    for records with the same WDPAID\n",
    "    \n",
    "    Input: WDPA in pandas dataframe \n",
    "    Output: list with WDPAIDs containing attribute inconsistencies\n",
    "    '''\n",
    "    check_attributes = ('STATUS_YR')\n",
    "\n",
    "    return inconsistent_attributes_same_wdpaid(wdpa_df, return_pid, check_attributes)"
   ]
  },
  {
   "cell_type": "markdown",
   "metadata": {},
   "source": [
    "###### Inconsistent GOV_TYPE"
   ]
  },
  {
   "cell_type": "code",
   "execution_count": null,
   "metadata": {},
   "outputs": [],
   "source": [
    "def inconsistent_gov_type_same_wdpaid(wdpa_df, return_pid=False):\n",
    "    '''\n",
    "    This function is to capture inconsistencies in the 'GOV_TYPE' attribute\n",
    "    for records with the same WDPAID\n",
    "    \n",
    "    Input: WDPA in pandas dataframe \n",
    "    Output: list with WDPAIDs containing attribute inconsistencies\n",
    "    '''\n",
    "    check_attributes = ('GOV_TYPE')\n",
    "\n",
    "    return inconsistent_attributes_same_wdpaid(wdpa_df, return_pid, check_attributes)"
   ]
  },
  {
   "cell_type": "markdown",
   "metadata": {},
   "source": [
    "###### Inconsistent OWN_TYPE"
   ]
  },
  {
   "cell_type": "code",
   "execution_count": null,
   "metadata": {},
   "outputs": [],
   "source": [
    "def inconsistent_own_type_same_wdpaid(wdpa_df, return_pid=False):\n",
    "    '''\n",
    "    This function is to capture inconsistencies in the 'OWN_TYPE' attribute\n",
    "    for records with the same WDPAID\n",
    "    \n",
    "    Input: WDPA in pandas dataframe \n",
    "    Output: list with WDPAIDs containing attribute inconsistencies\n",
    "    '''\n",
    "    check_attributes = ('OWN_TYPE')\n",
    "\n",
    "    return inconsistent_attributes_same_wdpaid(wdpa_df, return_pid, check_attributes)"
   ]
  },
  {
   "cell_type": "markdown",
   "metadata": {},
   "source": [
    "###### Inconsistent MANG_AUTH"
   ]
  },
  {
   "cell_type": "code",
   "execution_count": null,
   "metadata": {},
   "outputs": [],
   "source": [
    "def inconsistent_mang_auth_same_wdpaid(wdpa_df, return_pid=False):\n",
    "    '''\n",
    "    This function is to capture inconsistencies in the 'MANG_AUTH' attribute\n",
    "    for records with the same WDPAID\n",
    "    \n",
    "    Input: WDPA in pandas dataframe \n",
    "    Output: list with WDPAIDs containing attribute inconsistencies\n",
    "    '''\n",
    "    \n",
    "    check_attributes = ('MANG_AUTH')\n",
    "    \n",
    "    return inconsistent_attributes_same_wdpaid(wdpa_df, return_pid, check_attributes)"
   ]
  },
  {
   "cell_type": "markdown",
   "metadata": {},
   "source": [
    "###### Inconsistent MANG_PLAN"
   ]
  },
  {
   "cell_type": "code",
   "execution_count": null,
   "metadata": {},
   "outputs": [],
   "source": [
    "def inconsistent_mang_plan_same_wdpaid(wdpa_df, return_pid=False):\n",
    "    '''\n",
    "    This function is to capture inconsistencies in the 'MANG_PLAN' attribute\n",
    "    for records with the same WDPAID\n",
    "    \n",
    "    Input: WDPA in pandas dataframe \n",
    "    Output: list with WDPAIDs containing attribute inconsistencies\n",
    "    '''\n",
    "    check_attributes = ('MANG_PLAN')\n",
    "\n",
    "    return inconsistent_attributes_same_wdpaid(wdpa_df, return_pid, check_attributes)"
   ]
  },
  {
   "cell_type": "markdown",
   "metadata": {},
   "source": [
    "###### Inconsistent VERIF"
   ]
  },
  {
   "cell_type": "code",
   "execution_count": null,
   "metadata": {},
   "outputs": [],
   "source": [
    "def inconsistent_verif_same_wdpaid(wdpa_df, return_pid=False):\n",
    "    '''\n",
    "    This function is to capture inconsistencies in the 'VERIF' attribute\n",
    "    for records with the same WDPAID\n",
    "    \n",
    "    Input: WDPA in pandas dataframe \n",
    "    Output: list with WDPAIDs containing attribute inconsistencies\n",
    "    '''\n",
    "    check_attributes = ('VERIF')\n",
    "\n",
    "    return inconsistent_attributes_same_wdpaid(wdpa_df, return_pid, check_attributes)"
   ]
  },
  {
   "cell_type": "markdown",
   "metadata": {},
   "source": [
    "###### Inconsistent METADATAID"
   ]
  },
  {
   "cell_type": "code",
   "execution_count": null,
   "metadata": {},
   "outputs": [],
   "source": [
    "def inconsistent_metadataid_same_wdpaid(wdpa_df, return_pid=False):\n",
    "    '''\n",
    "    This function is to capture inconsistencies in the 'METADATAID' attribute\n",
    "    for records with the same WDPAID\n",
    "    \n",
    "    Input: WDPA in pandas dataframe \n",
    "    Output: list with WDPAIDs containing attribute inconsistencies\n",
    "    '''\n",
    "    check_attributes = ('METADATAID')\n",
    "\n",
    "    return inconsistent_attributes_same_wdpaid(wdpa_df, return_pid, check_attributes)"
   ]
  },
  {
   "cell_type": "markdown",
   "metadata": {},
   "source": [
    "###### Inconsistent SUB_LOC"
   ]
  },
  {
   "cell_type": "code",
   "execution_count": null,
   "metadata": {},
   "outputs": [],
   "source": [
    "def inconsistent_sub_loc_same_wdpaid(wdpa_df, return_pid=False):\n",
    "    '''\n",
    "    This function is to capture inconsistencies in the 'SUB_LOC' attribute\n",
    "    for records with the same WDPAID\n",
    "    \n",
    "    Input: WDPA in pandas dataframe \n",
    "    Output: list with WDPAIDs containing attribute inconsistencies\n",
    "    '''\n",
    "    check_attributes = ('SUB_LOC')\n",
    "\n",
    "    return inconsistent_attributes_same_wdpaid(wdpa_df, return_pid, check_attributes)"
   ]
  },
  {
   "cell_type": "markdown",
   "metadata": {},
   "source": [
    "###### Inconsistent PARENT_ISO3"
   ]
  },
  {
   "cell_type": "code",
   "execution_count": null,
   "metadata": {},
   "outputs": [],
   "source": [
    "def inconsistent_parent_iso3_same_wdpaid(wdpa_df, return_pid=False):\n",
    "    '''\n",
    "    This function is to capture inconsistencies in the 'PARENT_ISO3' attribute\n",
    "    for records with the same WDPAID\n",
    "    \n",
    "    Input: WDPA in pandas dataframe \n",
    "    Output: list with WDPAIDs containing attribute inconsistencies\n",
    "    '''\n",
    "    check_attributes = ('PARENT_ISO3')\n",
    "\n",
    "    return inconsistent_attributes_same_wdpaid(wdpa_df, return_pid, check_attributes)"
   ]
  },
  {
   "cell_type": "markdown",
   "metadata": {},
   "source": [
    "###### Inconsistent ISO3"
   ]
  },
  {
   "cell_type": "code",
   "execution_count": null,
   "metadata": {},
   "outputs": [],
   "source": [
    "def inconsistent_iso3_same_wdpaid(wdpa_df, return_pid=False):\n",
    "    '''\n",
    "    This function is to capture inconsistencies in the 'ISO3' attribute\n",
    "    for records with the same WDPAID\n",
    "    \n",
    "    Input: WDPA in pandas dataframe \n",
    "    Output: list with WDPAIDs containing attribute inconsistencies\n",
    "    '''\n",
    "    check_attributes = ('ISO3')\n",
    "\n",
    "    return inconsistent_attributes_same_wdpaid(wdpa_df, return_pid, check_attributes)"
   ]
  },
  {
   "cell_type": "markdown",
   "metadata": {},
   "source": [
    "---\n",
    "#### **iii. Find invalid values in fields**\n",
    "--- "
   ]
  },
  {
   "cell_type": "markdown",
   "metadata": {},
   "source": [
    "##### Parent function"
   ]
  },
  {
   "cell_type": "code",
   "execution_count": null,
   "metadata": {},
   "outputs": [],
   "source": [
    "def invalid_value_in_field(wdpa_df, field, field_allowed_values, condition_field, condition_crit, return_pid=False):\n",
    "    '''\n",
    "    This function checks the WDPA for invalid values and returns a list of WDPA_PIDs \n",
    "    that have invalid values for the specified field(s).\n",
    "    \n",
    "    This function is to be linked to the family of 'invalid field'-checking functions. \n",
    "    These latter functions give specific information on the fields to be checked, and how.\n",
    "        \n",
    "    Return True if invalid values are found in specified fields\n",
    "    Return list of WDPA_PIDs with invalid fields, if return_pid is set True\n",
    "\n",
    "    ## Arguments ##\n",
    "    \n",
    "    field -- the field to be checked for invalid values, in a list\n",
    "    \n",
    "    field_allowed_values -- a list of expected values in each field, case sensitive\n",
    "    \n",
    "    condition_field -- a constraint of another field for evaluating \n",
    "                       invalid values, in list; leave \"\" if no condition specified\n",
    "    \n",
    "    condition_crit --  a list of values for which the condition_field \n",
    "                       needs to be evaluated; leave \"\" if no condition specified\n",
    "\n",
    "    ## Example of function usage ##\n",
    "    invalid_value_in_field(\n",
    "        wdpa_df,\n",
    "        field=[\"DESIG_ENG\"],\n",
    "        field_allowed_values=[\"Ramsar Site, Wetland of International Importance\", \n",
    "                              \"UNESCO-MAB Biosphere Reserve\", \n",
    "                              \"World Heritage Site (natural or mixed)],\n",
    "        condition_field=[\"DESIG_TYPE\"],\n",
    "        condition_crit=[\"International\"],\n",
    "        return_pid=True):\n",
    "    '''\n",
    "\n",
    "    if field and field_allowed_values and condition_field and condition_crit:\n",
    "        invalid_wdpa_pid = wdpa_df[~wdpa_df[field[0]].isin(field_allowed_values) & \n",
    "                           wdpa_df[condition_field[0]].isin(condition_crit)]['WDPA_PID'].values\n",
    "\n",
    "    # If no condition_field and condition_crit are specified\n",
    "    else:\n",
    "        if field and field_allowed_values:\n",
    "            invalid_wdpa_pid = wdpa_df[~wdpa_df[field[0]].isin(field_allowed_values)]['WDPA_PID'].values\n",
    "        else: \n",
    "            raise Exception(\"ERROR: field(s) and/or condition(s) to test are not specified\")\n",
    "            \n",
    "    if return_pid:\n",
    "        # return list with invalid WDPA_PIDs\n",
    "        return invalid_wdpa_pid\n",
    "    \n",
    "    return len(invalid_wdpa_pid) >= 1"
   ]
  },
  {
   "cell_type": "markdown",
   "metadata": {},
   "source": [
    "##### Child functions"
   ]
  },
  {
   "cell_type": "markdown",
   "metadata": {},
   "source": [
    "###### Invalid PA_DEF"
   ]
  },
  {
   "cell_type": "code",
   "execution_count": null,
   "metadata": {},
   "outputs": [],
   "source": [
    "def invalid_pa_def(wdpa_df, return_pid=False):\n",
    "    '''\n",
    "    Return True if PA_DEF not 1\n",
    "    Return list of WDPA_PIDs where PA_DEF is not 1, if return_pid is set True\n",
    "    '''\n",
    "\n",
    "    field = ['PA_DEF']\n",
    "    field_allowed_values = ['1'] # based on WDPA data type\n",
    "    condition_field = []\n",
    "    condition_crit = []\n",
    "\n",
    "    return invalid_value_in_field(wdpa_df, field, field_allowed_values, condition_field, condition_crit, return_pid)"
   ]
  },
  {
   "cell_type": "markdown",
   "metadata": {},
   "source": [
    "###### Invalid DESIG_ENG International"
   ]
  },
  {
   "cell_type": "code",
   "execution_count": null,
   "metadata": {},
   "outputs": [],
   "source": [
    "def invalid_desig_eng_international(wdpa_df, return_pid=False):\n",
    "    '''\n",
    "    Return True if DESIG_ENG is invalid while DESIG_TYPE is 'International'\n",
    "    Return list of WDPA_PIDs where DESIG_ENG is invalid, if return_pid is set True\n",
    "    '''\n",
    "    \n",
    "    field = ['DESIG_ENG']\n",
    "    field_allowed_values = ['Ramsar Site', \n",
    "                            'Wetland of International Importance', \n",
    "                            'UNESCO-MAB Biosphere Reserve', \n",
    "                            'World Heritage Site (natural or mixed)']\n",
    "    condition_field = ['DESIG_TYPE']\n",
    "    condition_crit = ['International']\n",
    "    \n",
    "    return invalid_value_in_field(wdpa_df, field, field_allowed_values, condition_field, condition_crit, return_pid)"
   ]
  },
  {
   "cell_type": "markdown",
   "metadata": {},
   "source": [
    "###### Invalid DESIG_ENG Regional"
   ]
  },
  {
   "cell_type": "code",
   "execution_count": 1,
   "metadata": {},
   "outputs": [],
   "source": [
    "def invalid_desig_eng_regional(wdpa_df, return_pid=False):\n",
    "    '''\n",
    "    Return True if DESIG_ENG is invalid while DESIG_TYPE is 'Regional'\n",
    "    Return list of WDPA_PIDs where DESIG_ENG is invalid, if return_pid is set True\n",
    "    '''\n",
    "    \n",
    "    field = ['DESIG_ENG']\n",
    "    field_allowed_values = ['Baltic Sea Protected Area (HELCOM)', \n",
    "                            'Specially Protected Area (Cartagena Convention)', \n",
    "                            'Marine Protected Area (CCAMLR)', \n",
    "                            'Marine Protected Area (OSPAR)', \n",
    "                            'Site of Community Importance (Habitats Directive)', \n",
    "                            'Special Protection Area (Birds Directive)', \n",
    "                            'Specially Protected Areas of Mediterranean Importance (Barcelona Convention)']\n",
    "    condition_field = ['DESIG_TYPE']\n",
    "    condition_crit = ['Regional']\n",
    "    \n",
    "    return invalid_value_in_field(wdpa_df, field, field_allowed_values, condition_field, condition_crit, return_pid)"
   ]
  },
  {
   "cell_type": "markdown",
   "metadata": {},
   "source": [
    "###### Invalid DESIG_ENG & IUCN_CAT - UNESCO-MAB & World Heritage Sites"
   ]
  },
  {
   "cell_type": "code",
   "execution_count": null,
   "metadata": {},
   "outputs": [],
   "source": [
    "def invalid_desig_eng_iucn_cat(wdpa_df, return_pid=False):\n",
    "     '''\n",
    "    Return True if DESIG_ENG is unequal to 'UNESCO_MAB (...)' or 'World Heritage (...)' \n",
    "    and IUCN_CAT is 'Not Applicable'\n",
    "    Return list of WDPA_PIDs where DESIG_ENG is invalid, if return_pid is set True\n",
    "    '''\n",
    "    \n",
    "    field = ['DESIG_ENG']\n",
    "    field_allowed_values = ['UNESCO-MAB Biosphere Reserve', \n",
    "                            'World Heritage Site (natural or mixed)']\n",
    "    condition_field = ['IUCN_CAT']\n",
    "    condition_crit = ['Not Applicable']\n",
    "    \n",
    "    return invalid_value_in_field(wdpa_df, field, field_allowed_values, condition_field, condition_crit, return_pid)"
   ]
  },
  {
   "cell_type": "markdown",
   "metadata": {},
   "source": [
    "###### Invalid DESIG_ENG & IUCN_CAT - UNESCO-MAB & World Heritage Sites - inverse"
   ]
  },
  {
   "cell_type": "code",
   "execution_count": null,
   "metadata": {},
   "outputs": [],
   "source": [
    "def invalid_desig_eng_iucn_cat_inverse(wdpa_df, return_pid=False):\n",
    "     '''\n",
    "    Return True if IUCN_CAT is unqueal to 'Not Applicable' \n",
    "    and DESIG_ENG is 'UNESCO-MAB (...)' or 'World Heritage (...)'\n",
    "    Return list of WDPA_PIDs where IUCN_CAT is invalid, if return_pid is set True\n",
    "    '''\n",
    "    \n",
    "    field = ['IUCN_CAT']\n",
    "    field_allowed_values = ['Not Applicable']\n",
    "    condition_field = ['DESIG_ENG']\n",
    "    condition_crit = ['UNESCO-MAB Biosphere Reserve', \n",
    "                      'World Heritage Site (natural or mixed)']\n",
    "    \n",
    "    return invalid_value_in_field(wdpa_df, field, field_allowed_values, condition_field, condition_crit, return_pid)"
   ]
  },
  {
   "cell_type": "markdown",
   "metadata": {},
   "source": [
    "###### Invalid INT_CRIT & DESIG_ENG  - Ramsar Site & World Heritage Sites"
   ]
  },
  {
   "cell_type": "code",
   "execution_count": null,
   "metadata": {},
   "outputs": [],
   "source": [
    "def invalid_int_crit_desig_eng_ramsar_whs(wdpa_df, return_pid=False):\n",
    "     '''\n",
    "    Return True if INT_CRIT is unequal to the allowed values (>1000 possible values) \n",
    "    and DESIG_ENG equals 'Ramsar Site (...)' or 'World Heritage Sites (...)'\n",
    "    Return list of WDPA_PIDs where INT_CRIT is invalid, if return_pid is set True\n",
    "    '''\n",
    "    \n",
    "    # Function to create the possible INT_CRIT combinations\n",
    "    def generate_combinations():\n",
    "        import itertools\n",
    "        collection = []\n",
    "        INT_CRIT_ELEMENTS = ['(i)','(ii)','(iii)','(iv)',\n",
    "                             '(v)','(vi)','(vii)','(viii)',\n",
    "                             '(ix)','(x)']\n",
    "        for length_combi in range(1, len(INT_CRIT_ELEMENTS)+1): # for 1 - 10 elements\n",
    "            for combi in itertools.combinations(INT_CRIT_ELEMENTS, length_combi): # generate combinations\n",
    "                collection.append(''.join(combi)) # append to list, remove the '' in each combination\n",
    "        return collection\n",
    "   \n",
    "    # Arguments\n",
    "    field = ['INT_CRIT']\n",
    "    field_allowed_values_extra = ['Not Reported']\n",
    "    field_allowed_values =  generate_combinations() + field_allowed_values_extra\n",
    "    condition_field = ['DESIG_ENG']\n",
    "    condition_crit = ['Ramsar Site, Wetland of International Importance', \n",
    "                      'World Heritage Site (natural or mixed)']\n",
    "    \n",
    "    return invalid_value_in_field(wdpa_df, field, field_allowed_values, condition_field, condition_crit, return_pid)"
   ]
  },
  {
   "cell_type": "markdown",
   "metadata": {},
   "source": [
    "###### Invalid DESIG_TYPE"
   ]
  },
  {
   "cell_type": "code",
   "execution_count": null,
   "metadata": {},
   "outputs": [],
   "source": [
    "def invalid_desig_type(wdpa_df, return_pid=False):\n",
    "    '''\n",
    "    Return True if DESIG_TYPE is not \"National\", \"Regional\", \"International\" or \"Not Applicable\"\n",
    "    Return list of WDPA_PIDs where DESIG_TYPE is invalid, if return_pid is set True\n",
    "    '''\n",
    "\n",
    "    field = ['DESIG_TYPE']\n",
    "    field_allowed_values = ['National', 'Regional', 'International', 'Not Applicable']\n",
    "    condition_field = []\n",
    "    condition_crit = []\n",
    "\n",
    "    return invalid_value_in_field(wdpa_df, field, field_allowed_values, condition_field, condition_crit, return_pid)"
   ]
  },
  {
   "cell_type": "markdown",
   "metadata": {},
   "source": [
    "###### Invalid IUCN_CAT"
   ]
  },
  {
   "cell_type": "code",
   "execution_count": null,
   "metadata": {},
   "outputs": [],
   "source": [
    "def invalid_iucn_cat(wdpa_df, return_pid=False):\n",
    "    '''\n",
    "    Return True if IUCN_CAT is not equal to allowed values\n",
    "    Return list of WDPA_PIDs where IUCN_CAT is invalid, if return_pid is set True\n",
    "    '''\n",
    "    \n",
    "    field = ['IUCN_CAT']\n",
    "    field_allowed_values = [\"Ia\", \"Ib\", \"II\", \"III\", \n",
    "                            \"IV\", \"V\", \"VI\", \n",
    "                            \"Not Reported\", \n",
    "                            \"Not Applicable\", \n",
    "                            \"Not Assigned\"]\n",
    "    condition_field = []\n",
    "    condition_crit = []\n",
    "    \n",
    "    return invalid_value_in_field(wdpa_df, field, field_allowed_values, condition_field, condition_crit, return_pid)"
   ]
  },
  {
   "cell_type": "markdown",
   "metadata": {},
   "source": [
    "###### Invalid IUCN_CAT - UNESCO-MAB and World Heritage Sites"
   ]
  },
  {
   "cell_type": "code",
   "execution_count": 2,
   "metadata": {},
   "outputs": [],
   "source": [
    "def invalid_iucn_cat_unesco_whs(wdpa_df, return_pid=False):\n",
    "    '''\n",
    "    Return True if IUCN_CAT is \"Not Applicable\" and DESIG_ENG is UNESCO-MAB or World Heritage Site\n",
    "    Return list of WDPA_PIDs where IUCN_CAT is invalid, if return_pid is set True\n",
    "    '''\n",
    "    \n",
    "    field = ['IUCN_CAT']\n",
    "    field_allowed_values = ['Not Applicable']\n",
    "    condition_field = ['DESIG_ENG']\n",
    "    condition_crit = ['UNESCO-MAB Biosphere Reserve', \n",
    "                      'World Heritage Site (natural or mixed)']\n",
    "    \n",
    "    return invalid_value_in_field(wdpa_df, field, field_allowed_values, condition_field, condition_crit, return_pid)"
   ]
  },
  {
   "cell_type": "markdown",
   "metadata": {},
   "source": [
    "###### Invalid MARINE"
   ]
  },
  {
   "cell_type": "code",
   "execution_count": null,
   "metadata": {},
   "outputs": [],
   "source": [
    "def invalid_marine(wdpa_df, return_pid=False):\n",
    "    '''\n",
    "    Return True if MARINE is not in [0,1,2]\n",
    "    Return list of WDPA_PIDs where MARINE is invalid, if return_pid is set True\n",
    "    '''\n",
    "\n",
    "    field = ['MARINE']\n",
    "    field_allowed_values = ['0','1','2']\n",
    "    condition_field = []\n",
    "    condition_crit = []\n",
    "\n",
    "    return invalid_value_in_field(wdpa_df, field, field_allowed_values, condition_field, condition_crit, return_pid)"
   ]
  },
  {
   "cell_type": "markdown",
   "metadata": {},
   "source": [
    "###### Invalid NO_TAKE & MARINE = 0"
   ]
  },
  {
   "cell_type": "code",
   "execution_count": null,
   "metadata": {},
   "outputs": [],
   "source": [
    "def invalid_no_take_marine0(wdpa_df, return_pid=False):\n",
    "    '''\n",
    "    Return True if NO_TAKE is not equal to 'Not Applicable' and MARINE = 0\n",
    "    I.e. test whether terrestrial PAs (MARINE = 0) have a NO_TAKE other than 'Not Applicable'\n",
    "    Return list of WDPA_PIDs where NO_TAKE is invalid, if return_pid is set True\n",
    "    '''\n",
    "\n",
    "    field = ['NO_TAKE']\n",
    "    field_allowed_values = ['Not Applicable']\n",
    "    condition_field = ['MARINE']\n",
    "    condition_crit = ['0']\n",
    "\n",
    "    return invalid_value_in_field(wdpa_df, field, field_allowed_values, condition_field, condition_crit, return_pid)"
   ]
  },
  {
   "cell_type": "markdown",
   "metadata": {},
   "source": [
    "###### Invalid NO_TAKE & MARINE = [1,2]"
   ]
  },
  {
   "cell_type": "code",
   "execution_count": null,
   "metadata": {},
   "outputs": [],
   "source": [
    "def invalid_no_take_marine12(wdpa_df, return_pid=False):\n",
    "    '''\n",
    "    Return True if NO_TAKE is not in ['All', 'Part', 'None', 'Not Reported'] while MARINE = [1, 2]\n",
    "    I.e. check whether coastal and marine sites (MARINE = [1, 2]) have an invalid NO_TAKE value.\n",
    "    Return list of WDPA_PIDs where NO_TAKE is invalid, if return_pid is set True\n",
    "    '''\n",
    "\n",
    "    field = ['NO_TAKE']\n",
    "    field_allowed_values = ['All', 'Part', 'None', 'Not Reported']\n",
    "    condition_field = ['MARINE']\n",
    "    condition_crit = ['1', '2']\n",
    "\n",
    "    return invalid_value_in_field(wdpa_df, field, field_allowed_values, condition_field, condition_crit, return_pid)"
   ]
  },
  {
   "cell_type": "markdown",
   "metadata": {},
   "source": [
    "###### Invalid NO_TK_AREA & MARINE"
   ]
  },
  {
   "cell_type": "code",
   "execution_count": null,
   "metadata": {},
   "outputs": [],
   "source": [
    "def invalid_no_tk_area_marine(wdpa_df, return_pid=False):\n",
    "    '''\n",
    "    Return True if NO_TK_AREA is not in [0] while MARINE = [0]\n",
    "    I.e. check whether NO_TK_AREA is unequal to 0 for terrestrial PAs.\n",
    "    Return list of WDPA_PIDs where NO_TAKE is invalid, if return_pid is set True\n",
    "    '''\n",
    "\n",
    "    field = ['NO_TK_AREA']\n",
    "    field_allowed_values = [0]\n",
    "    condition_field = ['MARINE']\n",
    "    condition_crit = ['0']\n",
    "\n",
    "    return invalid_value_in_field(wdpa_df, field, field_allowed_values, condition_field, condition_crit, return_pid)"
   ]
  },
  {
   "cell_type": "markdown",
   "metadata": {},
   "source": [
    "###### Invalid NO_TK_AREA & NO_TAKE"
   ]
  },
  {
   "cell_type": "code",
   "execution_count": 1,
   "metadata": {},
   "outputs": [],
   "source": [
    "def invalid_no_tk_area_no_take(wdpa_df, return_pid=False):\n",
    "    '''\n",
    "    Return True if NO_TK_AREA is not in [0] while NO_TAKE = 'Not Applicable'\n",
    "    Return list of WDPA_PIDs where NO_TK_AREA is invalid, if return_pid is set True\n",
    "    '''\n",
    "\n",
    "    field = ['NO_TK_AREA']\n",
    "    field_allowed_values = [0]\n",
    "    condition_field = ['NO_TAKE']\n",
    "    condition_crit = ['Not Applicable']\n",
    "\n",
    "    return invalid_value_in_field(wdpa_df, field, field_allowed_values, condition_field, condition_crit, return_pid)"
   ]
  },
  {
   "cell_type": "markdown",
   "metadata": {},
   "source": [
    "###### Invalid STATUS"
   ]
  },
  {
   "cell_type": "code",
   "execution_count": null,
   "metadata": {},
   "outputs": [],
   "source": [
    "def invalid_status(wdpa_df, return_pid=False):\n",
    "    '''\n",
    "    Return True if STATUS is not in [\"Proposed\", \"Inscribed\", \"Adopted\", \"Designated\", \"Established\"]\n",
    "    Return list of WDPA_PIDs where STATUS is invalid, if return_pid is set True\n",
    "    '''\n",
    "\n",
    "    field = ['STATUS']\n",
    "    field_allowed_values = [\"Proposed\", \"Inscribed\", \"Adopted\", \"Designated\", \"Established\"]\n",
    "    condition_field = []\n",
    "    condition_crit = []\n",
    "\n",
    "    return invalid_value_in_field(wdpa_df, field, field_allowed_values, condition_field, condition_crit, return_pid)"
   ]
  },
  {
   "cell_type": "markdown",
   "metadata": {},
   "source": [
    "###### Invalid STATUS_YR"
   ]
  },
  {
   "cell_type": "code",
   "execution_count": null,
   "metadata": {},
   "outputs": [],
   "source": [
    "def invalid_status_yr(wdpa_df, return_pid=False):\n",
    "    '''\n",
    "    Return True if STATUS_YR is smaller than 0 or greater than the current year\n",
    "    Return list of WDPA_PIDs where STATUS_YR is invalid, if return_pid is set True\n",
    "    '''\n",
    "    \n",
    "    field = ['STATUS_YR']\n",
    "    year = datetime.date.today().year # obtain current year\n",
    "    yearArray = [0] + np.arange(1819, year + 1, 1).tolist() # make a list of all years, from 0 to current year\n",
    "    field_allowed_values = [str(x) for x in testArray] # change all integers to strings\n",
    "    condition_field = []\n",
    "    condition_crit = []\n",
    "    \n",
    "    return invalid_value_in_field(wdpa_df, field, field_allowed_values, condition_field, condition_crit, return_pid)"
   ]
  },
  {
   "cell_type": "markdown",
   "metadata": {},
   "source": [
    "###### Invalid GOV_TYPE"
   ]
  },
  {
   "cell_type": "code",
   "execution_count": 6,
   "metadata": {},
   "outputs": [],
   "source": [
    "def invalid_gov_type(wdpa_df, return_pid=False):\n",
    "    '''\n",
    "    Return True if GOV_TYPE is invalid\n",
    "    Return list of WDPA_PIDs where GOV_TYPE is invalid, if return_pid is set True\n",
    "    '''\n",
    "    \n",
    "    field = ['GOV_TYPE']\n",
    "    field_allowed_values = ['Federal or national ministry or agency', \n",
    "                            'Sub-national ministry or agency', \n",
    "                            'Government-delegated management', \n",
    "                            'Transboundary governance', \n",
    "                            'Collaborative governance', \n",
    "                            'Joint governance', \n",
    "                            'Individual landowners', \n",
    "                            'Non-profit organisations', \n",
    "                            'For-profit organisations', \n",
    "                            'Indigenous peoples', \n",
    "                            'Local communities', \n",
    "                            'Not Reported']\n",
    "    \n",
    "    condition_field = []\n",
    "    condition_crit = []\n",
    "    \n",
    "    return invalid_value_in_field(wdpa_df, field, field_allowed_values, condition_field, condition_crit, return_pid)"
   ]
  },
  {
   "cell_type": "markdown",
   "metadata": {},
   "source": [
    "###### Invalid OWN_TYPE"
   ]
  },
  {
   "cell_type": "code",
   "execution_count": null,
   "metadata": {},
   "outputs": [],
   "source": [
    "def invalid_own_type(wdpa_df, return_pid=False):\n",
    "    '''\n",
    "    Return True if OWN_TYPE is invalid\n",
    "    Return list of WDPA_PIDs where OWN_TYPE is invalid, if return_pid is set True\n",
    "    '''\n",
    "    \n",
    "    field = ['OWN_TYPE']\n",
    "    field_allowed_values = ['State', \n",
    "                            'Communal', \n",
    "                            'Individual landowners', \n",
    "                            'For-profit organisations', \n",
    "                            'Non-profit organisations', \n",
    "                            'Joint ownership', \n",
    "                            'Multiple ownership', \n",
    "                            'Contested', \n",
    "                            'Not Reported']\n",
    "    condition_field = []\n",
    "    condition_crit = []\n",
    "    \n",
    "    return invalid_value_in_field(wdpa_df, field, field_allowed_values, condition_field, condition_crit, return_pid)"
   ]
  },
  {
   "cell_type": "markdown",
   "metadata": {},
   "source": [
    "###### Invalid VERIF"
   ]
  },
  {
   "cell_type": "code",
   "execution_count": null,
   "metadata": {},
   "outputs": [],
   "source": [
    "def invalid_verif(wdpa_df, return_pid=False):\n",
    "    '''\n",
    "    Return True if VERIF is invalid\n",
    "    Return list of WDPA_PIDs where VERIF is invalid, if return_pid is set True\n",
    "    '''\n",
    "    \n",
    "    field = ['VERIF']\n",
    "    field_allowed_values = ['State Verified', \n",
    "                            'Expert Verified', \n",
    "                            'Not Reported']\n",
    "    condition_field = []\n",
    "    condition_crit = []\n",
    "    \n",
    "    return invalid_value_in_field(wdpa_df, field, field_allowed_values, condition_field, condition_crit, return_pid)"
   ]
  },
  {
   "cell_type": "markdown",
   "metadata": {},
   "source": [
    "###### Invalid METADATAID\n",
    "#### **AP: make this function -- use duplicate checker such as WDPA_PID?**"
   ]
  },
  {
   "cell_type": "code",
   "execution_count": null,
   "metadata": {},
   "outputs": [],
   "source": [
    "def invalid_metadataid(wdpa_df, return_pid=False):\n",
    "    pull out datatable\n",
    "    read metadata IDs\n",
    "    check uniques\n",
    "    return"
   ]
  },
  {
   "cell_type": "markdown",
   "metadata": {},
   "source": [
    "---\n",
    "#### **iv. Marine and GIS tabular data checks**\n",
    "---"
   ]
  },
  {
   "cell_type": "markdown",
   "metadata": {},
   "source": [
    "##### Parent function: GIS or Reported area is invalid.\n",
    "\n",
    "### AP: rm condition_field & condition_crit"
   ]
  },
  {
   "cell_type": "code",
   "execution_count": null,
   "metadata": {},
   "outputs": [],
   "source": [
    "def area_invalid_size(wdpa_df, field_small_area, field_large_area, \n",
    "                      condition_field, condition_crit, return_pid=False):\n",
    "    '''\n",
    "    Factory of functions: this generic function is to be linked to\n",
    "    the family of 'area' functions stated below. These latter \n",
    "    functions are to give information on which fields to check and pull \n",
    "    from the DataFrame. This function is the foundation of the others.\n",
    "    \n",
    "    Return True if the size of the small_area is invalid compared to large_area\n",
    "\n",
    "    Return list of WDPA_PIDs where small_area is invalid compared to large_area,\n",
    "    if return_pid is set True\n",
    "\n",
    "    ## Arguments ##\n",
    "    field_small_area  -- list of the attribute to check for size - supposedly smaller\n",
    "    field_large_area  -- list of the attribute to check for size - supposedly larger\n",
    "    condition_field   -- a constraint of another field for evaluating \n",
    "                         invalid values, in list; leave \"\" if no condition specified\n",
    "    condition_crit    -- a list of values for which the condition_field \n",
    "                         needs to be evaluated; leave \"\" if no condition specified\n",
    "    '''\n",
    "    \n",
    "    size_threshold = 1.0001 # due to the rounding of numbers, you can have many false positives without a threshold.\n",
    "\n",
    "    if field_small_area and field_large_area and condition_field and condition_crit:\n",
    "        invalid_values = wdpa_df[(wdpa_df[field_small_area[0]] > size_threshold*wdpa_df[field_large_area[0]]) &\n",
    "                         wdpa[condition_field[0]].isin(condition_crit)][\"WDPA_PID\"].values\n",
    "\n",
    "    # If no condition_field and condition_crit are specified\n",
    "    else:\n",
    "        if field_small_area and field_large_area:\n",
    "            wdpa_df[wdpa_df[field_small_area[0]] > size_threshold*wdpa_df[field_large_area[0]]]['WDPA_PID'].values\n",
    "        else: \n",
    "            raise Exception(\"ERROR: field(s) and/or condition(s) to test are not specified\")\n",
    "            \n",
    "    if return_pid:\n",
    "        return invalid_values\n",
    "    \n",
    "    return len(invalid_values) >= 1"
   ]
  },
  {
   "cell_type": "markdown",
   "metadata": {},
   "source": [
    "###### Area invalid: NO_TK_AREA and REP_M_AREA"
   ]
  },
  {
   "cell_type": "code",
   "execution_count": null,
   "metadata": {},
   "outputs": [],
   "source": [
    "def area_invalid_no_tk_area_rep_m_area(wdpa_df, return_pid=False):\n",
    "    '''\n",
    "    Return True if NO_TK_AREA is larger than REP_M_AREA\n",
    "    Return list of WDPA_PIDs where NO_TK_AREA is larger than REP_M_AREA if return_pid=True\n",
    "    '''\n",
    "    \n",
    "    field_small_area = ['NO_TK_AREA']\n",
    "    field_large_area = ['REP_M_AREA']\n",
    "    condition_field = []\n",
    "    condition_crit = []\n",
    "    \n",
    "    return area_invalid_size(wdpa_df, field_small_area, field_large_area, condition_field, condition_crit, return_pid)"
   ]
  },
  {
   "cell_type": "markdown",
   "metadata": {},
   "source": [
    "###### Area invalid: GIS_M_AREA and GIS_AREA"
   ]
  },
  {
   "cell_type": "code",
   "execution_count": null,
   "metadata": {},
   "outputs": [],
   "source": [
    "def area_invalid_gis_m_area_gis_area(wdpa_df, return_pid=False):\n",
    "    '''\n",
    "    Return True if GIS_M_AREA is larger than GIS_AREA\n",
    "    Return list of WDPA_PIDs where GIS_M_AREA is larger than GIS_AREA, if return_pid=True\n",
    "    '''\n",
    "    \n",
    "    field_small_area = ['GIS_M_AREA']\n",
    "    field_large_area = ['GIS_AREA']\n",
    "    condition_field = []\n",
    "    condition_crit = []\n",
    "    \n",
    "    return area_invalid_size(wdpa_df, field_small_area, field_large_area, condition_field, condition_crit, return_pid)"
   ]
  },
  {
   "cell_type": "markdown",
   "metadata": {},
   "source": [
    "###### Area invalid: REP_M_AREA and REP_AREA"
   ]
  },
  {
   "cell_type": "code",
   "execution_count": null,
   "metadata": {},
   "outputs": [],
   "source": [
    "def area_invalid_rep_m_area_rep_area(wdpa_df, return_pid=False):\n",
    "    '''\n",
    "    Return True if REP_M_AREA is larger than REP_AREA\n",
    "    Return list of WDPA_PIDs where REP_M_AREA is larger than REP_AREA, if return_pid=True\n",
    "    '''\n",
    "    \n",
    "    field_small_area = ['REP_M_AREA']\n",
    "    field_large_area = ['REP_AREA']\n",
    "    condition_field = []\n",
    "    condition_crit = []\n",
    "    \n",
    "    return area_invalid_size(wdpa_df, field_small_area, field_large_area, condition_field, condition_crit, return_pid)"
   ]
  },
  {
   "cell_type": "markdown",
   "metadata": {},
   "source": [
    "---\n",
    "#### **v. Hardcoded**\n",
    "---"
   ]
  },
  {
   "cell_type": "markdown",
   "metadata": {},
   "source": [
    "###### Invalid MARINE based on GIS area"
   ]
  },
  {
   "cell_type": "code",
   "execution_count": null,
   "metadata": {},
   "outputs": [],
   "source": [
    "def area_invalid_marine(wdpa_df, return_pid=False):\n",
    "    '''\n",
    "    Assign a marine_value based on GIS calculations, return True if marine_value is unequal to MARINE\n",
    "    Return list of WDPA_PIDs where MARINE is invalid, if return_pid is set True\n",
    "    '''\n",
    "    \n",
    "    # set min and max for 'coastal' designation (MARINE = 1)\n",
    "    coast_min = 0.1\n",
    "    coast_max = 0.9\n",
    "    \n",
    "    # create new column with proportion marine vs total GIS area \n",
    "    wdpa_df['marine_proportion'] = wdpa_df['GIS_M_AREA'] / wdpa_df['GIS_AREA']\n",
    "    \n",
    "    def assign_marine_value(wdpa_df):\n",
    "        if wdpa_df['marine_proportion'] < coast_min:\n",
    "            return '0'\n",
    "        elif coast_min < wdpa_df['marine_proportion'] < coast_max:\n",
    "            return '1'\n",
    "        elif wdpa_df['marine_proportion'] > coast_max:\n",
    "            return '2'\n",
    "    \n",
    "    # calculate the marine_value\n",
    "    wdpa_df['marine_value'] = wdpa_df.apply(assign_marine_value, axis=1)\n",
    "    \n",
    "    # store the rows for which marine_value != MARINE \n",
    "    if return_pid:\n",
    "        return wdpa_df[wdpa_df['marine_value'] != wdpa_df['MARINE']].[\"WDPA_PID\"].values\n",
    "    \n",
    "    return len(wdpa_df[wdpa_df['marine_value'] != wdpa_df['MARINE']]) >= 1"
   ]
  },
  {
   "cell_type": "markdown",
   "metadata": {},
   "source": [
    "###### Invalid: REP_AREA >= 2* GIS_AREA\n",
    "\n",
    "### AP: normalize & 2xstdev from mean of distribution"
   ]
  },
  {
   "cell_type": "code",
   "execution_count": null,
   "metadata": {},
   "outputs": [],
   "source": [
    "def area_invalid_rep_area_gis_area(wdpa_df, return_pid=False):\n",
    "    '''\n",
    "    Return True if REP_AREA is more than 2 times as large as GIS_AREA\n",
    "    Return list of WDPA_PIDs where REP_AREA is more than 2 times larger than GIS_AREA, if return_pid=True\n",
    "    '''\n",
    "    \n",
    "    size_threshold = 2\n",
    "    field_small_area = ['REP_AREA']\n",
    "    field_large_area = ['GIS_AREA']\n",
    "    \n",
    "    return wdpa_df[wdpa_df[field_small_area[0]] >= size_threshold*wdpa_df[field_large_area[0]]]['WDPA_PID'].values"
   ]
  },
  {
   "cell_type": "markdown",
   "metadata": {},
   "source": [
    "###### Invalid: REP_M_AREA >= 2* GIS_M_AREA\n",
    "### As above"
   ]
  },
  {
   "cell_type": "code",
   "execution_count": 1,
   "metadata": {},
   "outputs": [],
   "source": [
    "def area_invalid_rep_m_area_gis_m_area(wdpa_df, return_pid=False):\n",
    "    '''\n",
    "    Return True if REP_M_AREA is more than 2 times as large as GIS_M_AREA\n",
    "    Return list of WDPA_PIDs where REP_M_AREA is more than 2 times larger than GIS_M_AREA, if return_pid=True\n",
    "    '''\n",
    "    \n",
    "    size_threshold = 2\n",
    "    field_small_area = ['REP_M_AREA']\n",
    "    field_large_area = ['GIS_M_AREA']\n",
    "    \n",
    "    return wdpa_df[wdpa_df[field_small_area[0]] >= size_threshold*wdpa_df[field_large_area[0]]]['WDPA_PID'].values"
   ]
  },
  {
   "cell_type": "markdown",
   "metadata": {},
   "source": [
    "###### Invalid: GIS_AREA <= 0.0001 km² (100 m²)"
   ]
  },
  {
   "cell_type": "code",
   "execution_count": 1,
   "metadata": {},
   "outputs": [],
   "source": [
    "def area_invalid_gis_area(wdpa_df, return_pid=False):\n",
    "    '''\n",
    "    Return True if GIS_AREA is smaller than 0.0001 km²\n",
    "    Return list of WDPA_PIDs where GIS_AREA is smaller than 0.0001 km², if return_pid=True\n",
    "    '''\n",
    "    \n",
    "    size_threshold = 0.0001\n",
    "    field_gis_area = ['GIS_AREA']\n",
    "    \n",
    "    if return_pid:\n",
    "        return wdpa_df[wdpa_df[field_gis_area[0]] <= size_threshold]['WDPA_PID'].values\n",
    "    \n",
    "    return len(wdpa_df[wdpa_df[field_gis_area[0]] <= size_threshold]['WDPA_PID'].values) >= 1"
   ]
  },
  {
   "cell_type": "markdown",
   "metadata": {},
   "source": [
    "###### Invalid: REP_M_AREA <= 0 when MARINE = 1 or 2"
   ]
  },
  {
   "cell_type": "code",
   "execution_count": null,
   "metadata": {},
   "outputs": [],
   "source": [
    "def area_invalid_rep_m_area_marine12(wdpa_df, return_pid=False):\n",
    "    '''\n",
    "    Return True if REP_M_AREA is smaller than or equal to 0 while MARINE = 1 or 2\n",
    "    Return list of WDPA_PIDs where REP_M_AREA is invalid, if return_pid=True\n",
    "    '''\n",
    "    \n",
    "    field = ['REP_M_AREA']\n",
    "    field_allowed_values = [0]\n",
    "    condition_field = ['MARINE']\n",
    "    condition_crit = ['1','2']\n",
    "    \n",
    "    if return_pid:\n",
    "        return wdpa_df[(wdpa_df[field[0]] <= field_allowed_values[0]) & \n",
    "               wdpa_df[condition_field[0]].isin(condition_crit)]['WDPA_PID'].values\n",
    "    \n",
    "    return len(wdpa_df[(wdpa_df[field[0]] <= field_allowed_values[0]) & \n",
    "                    wdpa_df[condition_field[0]].isin(condition_crit)]['WDPA_PID'].values) >= 1"
   ]
  },
  {
   "cell_type": "markdown",
   "metadata": {},
   "source": [
    "###### Invalid: GIS_M_AREA <= 0 when MARINE = 1 or 2"
   ]
  },
  {
   "cell_type": "code",
   "execution_count": 1,
   "metadata": {},
   "outputs": [],
   "source": [
    "def area_invalid_gis_m_area_marine12(wdpa_df, return_pid=False):\n",
    "    '''\n",
    "    Return True if GIS_M_AREA is smaller than or equal to 0 while MARINE = 1 or 2\n",
    "    Return list of WDPA_PIDs where GIS_M_AREA is invalid, if return_pid=True\n",
    "    '''\n",
    "    \n",
    "    field = ['GIS_M_AREA']\n",
    "    field_allowed_values = [0]\n",
    "    condition_field = ['MARINE']\n",
    "    condition_crit = ['1','2']\n",
    "     \n",
    "    if return_pid:\n",
    "        return wdpa_df[(wdpa_df[field[0]] <= field_allowed_values[0]) & \n",
    "                    wdpa_df[condition_field[0]].isin(condition_crit)]['WDPA_PID'].values\n",
    "        \n",
    "    return len(wdpa_df[(wdpa_df[field[0]] <= field_allowed_values[0]) & \n",
    "                    wdpa_df[condition_field[0]].isin(condition_crit)]['WDPA_PID'].values) >= 1"
   ]
  },
  {
   "cell_type": "markdown",
   "metadata": {},
   "source": [
    "###### Invalid NO_TAKE, NO_TK_AREA and REP_M_AREA"
   ]
  },
  {
   "cell_type": "code",
   "execution_count": null,
   "metadata": {},
   "outputs": [],
   "source": [
    "def invalid_no_take_no_tk_area_rep_m_area(wdpa_df, return_pid=False):\n",
    "    '''\n",
    "    Return True if NO_TAKE = 'All' while the REP_M_AREA is unequal to NO_TK_AREA\n",
    "    Return list of WDPA_PIDs where NO_TAKE is invalid, if return_pid=True\n",
    "    '''\n",
    "\n",
    "    # Select rows with NO_TAKE = 'All'\n",
    "    no_take_all = wdpa_df[wdpa_df['NO_TAKE']=='All']\n",
    "    \n",
    "    # Select rows where the REP_M_AREA is unequalo to NO_TK_AREA\n",
    "    return no_take_all[no_take_all['REP_M_AREA'] != no_take_all['NO_TK_AREA']]['WPDA_PID'].values"
   ]
  },
  {
   "cell_type": "markdown",
   "metadata": {},
   "source": [
    "###### Invalid INT_CRIT & DESIG_ENG  - other sites"
   ]
  },
  {
   "cell_type": "code",
   "execution_count": null,
   "metadata": {},
   "outputs": [],
   "source": [
    "def invalid_int_crit_desig_eng_other(wdpa_df, return_pid=False):\n",
    "     '''\n",
    "    Return True if DESIG_ENG is something else than Ramsar Site (...)' or 'World Heritage Sites (...)'\n",
    "    while INT_CRIT is unequal to 'Not Applicable'. Other-than Ramsar / WHS should not contain anything\n",
    "    else than 'Not Applicable'.\n",
    "    Return list of WDPA_PIDs where INT_CRIT is invalid, if return_pid is set True\n",
    "    '''\n",
    "    \n",
    "    field = ['DESIG_ENG']\n",
    "    field_allowed_values = ['Ramsar Site, Wetland of International Importance', \n",
    "                            'World Heritage Site (natural or mixed)']\n",
    "    condition_field = ['INT_CRIT']\n",
    "    condition_crit = ['Not Applicable']\n",
    "    \n",
    "    if return_pid:\n",
    "        return invalid_wdpa_pid = wdpa_df[~wdpa_df[field[0]].isin(field_allowed_values) &\n",
    "                                          ~wdpa_df[condition_field[0]].isin(condition_crit)]['WDPA_PID'].values\n",
    "    \n",
    "    return len(wdpa_df[~wdpa_df[field[0]].isin(field_allowed_values) &\n",
    "                       ~wdpa_df[condition_field[0]].isin(condition_crit)]['WDPA_PID'].values >= 1"
   ]
  }
 ],
 "metadata": {
  "kernelspec": {
   "display_name": "Python 3",
   "language": "python",
   "name": "python3"
  },
  "language_info": {
   "codemirror_mode": {
    "name": "ipython",
    "version": 3
   },
   "file_extension": ".py",
   "mimetype": "text/x-python",
   "name": "python",
   "nbconvert_exporter": "python",
   "pygments_lexer": "ipython3",
   "version": "3.6.6"
  }
 },
 "nbformat": 4,
 "nbformat_minor": 2
}

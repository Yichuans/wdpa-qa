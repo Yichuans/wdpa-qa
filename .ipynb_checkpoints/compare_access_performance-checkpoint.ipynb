{
 "cells": [
  {
   "cell_type": "markdown",
   "metadata": {},
   "source": [
    "## Description\n",
    "\n",
    "Currently esri geoprocessing model based quality checks proves ineffective in 1) testing 2) improveing 3) connecting to existing pipelines. For improvement, we consider either natively run QA checks using esri's `arcpy`, or convert to `numpy`/`pandas` for at least non spatial checks\n",
    "\n",
    "This notebook runs a few annecdotal tests to investigate ease of running and performance"
   ]
  },
  {
   "cell_type": "code",
   "execution_count": 63,
   "metadata": {},
   "outputs": [],
   "source": [
    "# test arcpy.da cursor vs pandas\n",
    "import arcpy\n",
    "import numpy as np\n",
    "import pandas as pd\n",
    "\n",
    "wdpa = r'E:\\Yichuan\\WDPA\\WDPA_May2016_Public.gdb\\WDPA_poly_May2016'\n",
    "\n",
    "\n",
    "# https://gist.github.com/d-wasserman/e9c98be1d0caebc2935afecf0ba239a0\n",
    "def arcgis_table_to_df(in_fc, input_fields, query=\"\"):\n",
    "    \"\"\"Function will convert an arcgis table into a pandas dataframe with an object ID index, and the selected\n",
    "    input fields using an arcpy.da.SearchCursor.\"\"\"\n",
    "\n",
    "    OIDFieldName = arcpy.Describe(in_fc).OIDFieldName\n",
    "    final_fields = [OIDFieldName] + input_fields\n",
    "    data = [row for row in arcpy.da.SearchCursor(in_fc,final_fields,where_clause=query)]\n",
    "    fc_dataframe = pd.DataFrame(data,columns=final_fields)\n",
    "    fc_dataframe = fc_dataframe.set_index(OIDFieldName,drop=True)\n",
    "    \n",
    "    return fc_dataframe\n",
    "\n",
    "def arcgis_table_to_dataframe(in_fc, input_fields, query=\"\", skip_nulls=False, null_values=None):\n",
    "    \"\"\"Function will convert an arcgis table into a pandas dataframe with an object ID index, and the selected\n",
    "    input fields. Uses TableToNumPyArray to get initial data.\"\"\"\n",
    "\n",
    "    OIDFieldName = arcpy.Describe(in_fc).OIDFieldName\n",
    "    final_fields = [OIDFieldName] + input_fields\n",
    "    np_array = arcpy.da.TableToNumPyArray(in_fc, final_fields, query, skip_nulls, null_values)\n",
    "    object_id_index = np_array[OIDFieldName]\n",
    "    fc_dataframe = pd.DataFrame(np_array, index=object_id_index, columns=input_fields)\n",
    "\n",
    "    return fc_dataframe\n",
    "\n",
    "fields = ['WDPAID', 'WDPA_PID', 'PA_DEF', 'NAME', 'ORIG_NAME', 'DESIG', \n",
    "          'DESIG_ENG', 'DESIG_TYPE', 'IUCN_CAT', 'INT_CRIT', 'MARINE', 'REP_M_AREA', \n",
    "          'GIS_M_AREA', 'REP_AREA', 'GIS_AREA', 'NO_TAKE', 'NO_TK_AREA', 'STATUS', 'STATUS_YR', \n",
    "          'GOV_TYPE', 'OWN_TYPE', 'MANG_AUTH', 'MANG_PLAN', 'VERIF', 'METADATAID', 'SUB_LOC', 'PARENT_ISO3', 'ISO3', ]"
   ]
  },
  {
   "cell_type": "markdown",
   "metadata": {},
   "source": [
    "Load time"
   ]
  },
  {
   "cell_type": "code",
   "execution_count": 3,
   "metadata": {},
   "outputs": [
    {
     "name": "stdout",
     "output_type": "stream",
     "text": [
      "1 loop, best of 3: 8.36 s per loop\n"
     ]
    }
   ],
   "source": [
    "timeit arcgis_table_to_dataframe(wdpa, fields)"
   ]
  },
  {
   "cell_type": "code",
   "execution_count": 24,
   "metadata": {},
   "outputs": [
    {
     "name": "stdout",
     "output_type": "stream",
     "text": [
      "1 loop, best of 3: 3.47 s per loop\n"
     ]
    }
   ],
   "source": [
    "timeit arcgis_table_to_df(wdpa, fields)"
   ]
  },
  {
   "cell_type": "markdown",
   "metadata": {},
   "source": [
    "Memory info"
   ]
  },
  {
   "cell_type": "code",
   "execution_count": 4,
   "metadata": {},
   "outputs": [],
   "source": [
    "df = arcgis_table_to_dataframe(wdpa, fields)"
   ]
  },
  {
   "cell_type": "code",
   "execution_count": 5,
   "metadata": {},
   "outputs": [
    {
     "name": "stdout",
     "output_type": "stream",
     "text": [
      "<class 'pandas.core.frame.DataFrame'>\n",
      "Int64Index: 202009 entries, 1 to 202009\n",
      "Data columns (total 28 columns):\n",
      "WDPAID         202009 non-null float64\n",
      "WDPA_PID       202009 non-null float64\n",
      "PA_DEF         202009 non-null object\n",
      "NAME           202009 non-null object\n",
      "ORIG_NAME      202009 non-null object\n",
      "DESIG          202009 non-null object\n",
      "DESIG_ENG      202009 non-null object\n",
      "DESIG_TYPE     202009 non-null object\n",
      "IUCN_CAT       202009 non-null object\n",
      "INT_CRIT       202009 non-null object\n",
      "MARINE         202009 non-null object\n",
      "REP_M_AREA     202009 non-null float64\n",
      "GIS_M_AREA     202009 non-null float64\n",
      "REP_AREA       202009 non-null float64\n",
      "GIS_AREA       202009 non-null float64\n",
      "NO_TAKE        202009 non-null object\n",
      "NO_TK_AREA     202009 non-null float64\n",
      "STATUS         202009 non-null object\n",
      "STATUS_YR      202009 non-null int32\n",
      "GOV_TYPE       202009 non-null object\n",
      "OWN_TYPE       202009 non-null object\n",
      "MANG_AUTH      202009 non-null object\n",
      "MANG_PLAN      202009 non-null object\n",
      "VERIF          202009 non-null object\n",
      "METADATAID     202009 non-null int32\n",
      "SUB_LOC        202009 non-null object\n",
      "PARENT_ISO3    202009 non-null object\n",
      "ISO3           202009 non-null object\n",
      "dtypes: float64(7), int32(2), object(19)\n",
      "memory usage: 43.2+ MB\n"
     ]
    }
   ],
   "source": [
    "df.info()"
   ]
  },
  {
   "cell_type": "code",
   "execution_count": 65,
   "metadata": {},
   "outputs": [
    {
     "data": {
      "text/plain": [
       "array([u'1'], dtype=object)"
      ]
     },
     "execution_count": 65,
     "metadata": {},
     "output_type": "execute_result"
    }
   ],
   "source": [
    "df['PA_DEF'].unique()"
   ]
  },
  {
   "cell_type": "markdown",
   "metadata": {},
   "source": [
    "## pandas"
   ]
  },
  {
   "cell_type": "code",
   "execution_count": 15,
   "metadata": {},
   "outputs": [
    {
     "name": "stdout",
     "output_type": "stream",
     "text": [
      "100 loops, best of 3: 7.52 ms per loop\n"
     ]
    }
   ],
   "source": [
    "timeit df[(df['WDPAID']>1) & (df['DESIG_ENG'].isin(['National Park and ASEAN Heritage Park']))]"
   ]
  },
  {
   "cell_type": "markdown",
   "metadata": {},
   "source": [
    "## esri"
   ]
  },
  {
   "cell_type": "markdown",
   "metadata": {},
   "source": [
    "Feature class level, selection make during feature layer creation"
   ]
  },
  {
   "cell_type": "code",
   "execution_count": 22,
   "metadata": {},
   "outputs": [
    {
     "name": "stdout",
     "output_type": "stream",
     "text": [
      "1 loop, best of 3: 256 ms per loop\n"
     ]
    }
   ],
   "source": [
    "%%timeit \n",
    "\n",
    "if arcpy.Exists('wdpa'):\n",
    "    arcpy.Delete_management('wdpa')\n",
    "whereclause = '\"WDPAID\" > 1 AND \"DESIG_ENG\" in (\\'National Park and ASEAN Heritage Park\\')'\n",
    "arcpy.MakeFeatureLayer_management(wdpa, 'wdpa', whereclause)"
   ]
  },
  {
   "cell_type": "markdown",
   "metadata": {},
   "source": [
    "Looping through every record"
   ]
  },
  {
   "cell_type": "code",
   "execution_count": 23,
   "metadata": {
    "scrolled": true
   },
   "outputs": [
    {
     "name": "stdout",
     "output_type": "stream",
     "text": [
      "1 loop, best of 3: 1.04 s per loop\n"
     ]
    }
   ],
   "source": [
    "timeit [each for each in arcpy.da.SearchCursor('wdpa', '*')]"
   ]
  },
  {
   "cell_type": "markdown",
   "metadata": {},
   "source": [
    "Feature level access with cursors, based directly on the data"
   ]
  },
  {
   "cell_type": "code",
   "execution_count": 26,
   "metadata": {},
   "outputs": [
    {
     "name": "stdout",
     "output_type": "stream",
     "text": [
      "100 loops, best of 3: 11.1 ms per loop\n"
     ]
    }
   ],
   "source": [
    "whereclause = '\"WDPAID\" > 1 AND \"DESIG_ENG\" in (\\'National Park and ASEAN Heritage Park\\')'\n",
    "%timeit arcpy.da.SearchCursor(wdpa, '*', whereclause)"
   ]
  },
  {
   "cell_type": "code",
   "execution_count": 32,
   "metadata": {},
   "outputs": [
    {
     "data": {
      "text/plain": [
       "<Result 'wdpa'>"
      ]
     },
     "execution_count": 32,
     "metadata": {},
     "output_type": "execute_result"
    }
   ],
   "source": [
    "if arcpy.Exists('wdpa'):\n",
    "    arcpy.Delete_management('wdpa')\n",
    "arcpy.MakeFeatureLayer_management(wdpa, 'wdpa')"
   ]
  },
  {
   "cell_type": "markdown",
   "metadata": {},
   "source": [
    "Feature level access with cursors, based directly on the feature layer"
   ]
  },
  {
   "cell_type": "code",
   "execution_count": 55,
   "metadata": {
    "scrolled": false
   },
   "outputs": [
    {
     "name": "stdout",
     "output_type": "stream",
     "text": [
      "The slowest run took 49.94 times longer than the fastest. This could mean that an intermediate result is being cached.\n",
      "100000 loops, best of 3: 2.35 µs per loop\n"
     ]
    }
   ],
   "source": [
    "whereclause = '\"WDPAID\" > 1 AND \"DESIG_ENG\" in (\\'National Park and ASEAN Heritage Park\\')'\n",
    "%timeit arcpy.da.SearchCursor('wdpa', '*', whereclause)"
   ]
  },
  {
   "cell_type": "markdown",
   "metadata": {},
   "source": [
    "**Time required to locate records:** `arcpy.da.SearchCursor(featurelayer)` > `pandas` dataframe index > `arcpy.da.SearchCursor(featureclass)`"
   ]
  },
  {
   "cell_type": "code",
   "execution_count": 34,
   "metadata": {},
   "outputs": [
    {
     "name": "stdout",
     "output_type": "stream",
     "text": [
      "The slowest run took 39.07 times longer than the fastest. This could mean that an intermediate result is being cached.\n",
      "100000 loops, best of 3: 2.65 µs per loop\n"
     ]
    }
   ],
   "source": [
    "# generator expression\n",
    "timeit (each for each in arcpy.da.SearchCursor('wdpa', '*'))"
   ]
  },
  {
   "cell_type": "code",
   "execution_count": 39,
   "metadata": {},
   "outputs": [
    {
     "name": "stdout",
     "output_type": "stream",
     "text": [
      "1 loop, best of 3: 1.04 s per loop\n"
     ]
    }
   ],
   "source": [
    "%%timeit\n",
    "for each in arcpy.da.SearchCursor('wdpa', '*', whereclause):\n",
    "    pass"
   ]
  },
  {
   "cell_type": "markdown",
   "metadata": {},
   "source": [
    "## Real test"
   ]
  },
  {
   "attachments": {
    "image.png": {
     "image/png": "[encoded data removed]"
    }
   },
   "cell_type": "markdown",
   "metadata": {},
   "source": [
    "GIS_AREA\tPIDs where = 0\n",
    "![image.png](attachment:image.png)"
   ]
  },
  {
   "cell_type": "code",
   "execution_count": 50,
   "metadata": {},
   "outputs": [
    {
     "name": "stdout",
     "output_type": "stream",
     "text": [
      "1000 loops, best of 3: 954 µs per loop\n"
     ]
    }
   ],
   "source": [
    "%timeit df[df['GIS_AREA']<0.0001]['WDPA_PID']"
   ]
  },
  {
   "cell_type": "markdown",
   "metadata": {},
   "source": [
    "Very slow"
   ]
  },
  {
   "cell_type": "code",
   "execution_count": 51,
   "metadata": {},
   "outputs": [
    {
     "name": "stdout",
     "output_type": "stream",
     "text": [
      "1 loop, best of 3: 187 ms per loop\n"
     ]
    }
   ],
   "source": [
    "%timeit df.sort_values('GIS_AREA')[['NAME', 'GIS_AREA']].head(15)"
   ]
  },
  {
   "cell_type": "markdown",
   "metadata": {},
   "source": [
    "Setup for esri"
   ]
  },
  {
   "cell_type": "code",
   "execution_count": 56,
   "metadata": {},
   "outputs": [],
   "source": [
    "if arcpy.Exists('gis_area'):\n",
    "    arcpy.Delete_management('gis_area')\n",
    "    \n",
    "arcpy.MakeFeatureLayer_management(wdpa, 'gis_area')\n",
    "whereclause = '\"GIS_AREA\"<0.0001'"
   ]
  },
  {
   "cell_type": "code",
   "execution_count": 62,
   "metadata": {},
   "outputs": [
    {
     "name": "stdout",
     "output_type": "stream",
     "text": [
      "10 loops, best of 3: 49.2 ms per loop\n"
     ]
    }
   ],
   "source": [
    "%%timeit \n",
    "with arcpy.da.SearchCursor('gis_area', 'WDPA_PID', whereclause) as cur:\n",
    "    cur.next()"
   ]
  },
  {
   "cell_type": "code",
   "execution_count": 58,
   "metadata": {},
   "outputs": [
    {
     "name": "stdout",
     "output_type": "stream",
     "text": [
      "1 loop, best of 3: 1 s per loop\n"
     ]
    }
   ],
   "source": [
    "%timeit [each for each in arcpy.da.SearchCursor('gis_area', 'WDPA_PID', whereclause)]"
   ]
  },
  {
   "cell_type": "markdown",
   "metadata": {},
   "source": [
    "`GIS_AREA` cannot be 0, as it is calculated based on geometry - if there is geometry, there has to be an area. The fact arcgis displays 0 does not hide the fact that `GIS_AREA` could be a very small value"
   ]
  },
  {
   "cell_type": "markdown",
   "metadata": {},
   "source": [
    "## Conclusion\n",
    "\n",
    "For non special check, it appears to be much faster in `pandas`"
   ]
  },
  {
   "cell_type": "code",
   "execution_count": null,
   "metadata": {},
   "outputs": [],
   "source": []
  }
 ],
 "metadata": {
  "kernelspec": {
   "display_name": "Python 2",
   "language": "python",
   "name": "python2"
  },
  "language_info": {
   "codemirror_mode": {
    "name": "ipython",
    "version": 2
   },
   "file_extension": ".py",
   "mimetype": "text/x-python",
   "name": "python",
   "nbconvert_exporter": "python",
   "pygments_lexer": "ipython2",
   "version": "2.7.12"
  }
 },
 "nbformat": 4,
 "nbformat_minor": 2
}
